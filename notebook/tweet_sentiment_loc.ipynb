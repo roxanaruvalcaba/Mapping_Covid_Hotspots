{
 "cells": [
  {
   "cell_type": "markdown",
   "metadata": {},
   "source": [
    "# Client Project: Mapping Coronavirus Sentiment"
   ]
  },
  {
   "cell_type": "markdown",
   "metadata": {},
   "source": [
    "Jonathan Cheung, Rahul Kaw, Wesley Miller, Roxana Ruvalcaba, "
   ]
  },
  {
   "cell_type": "markdown",
   "metadata": {},
   "source": [
    "## Problem Statement"
   ]
  },
  {
   "cell_type": "markdown",
   "metadata": {},
   "source": [
    "Can we predict the severity of the COVID outbreak in a region using Twitter data? Specifically, can we accurately label and predict a tweet sentiment and is that information related to the COVID-19 outbreak severity?\n",
    "\n",
    "The original problem statement stated that the data released regarding instances of the COVID-19 pandemic is aggregated before it is released to (legally and ethically) protect the privacy of those involved. Unfortunately, this takes away some of the utility of the data. The question we were to answer was, can the location of cases be narrowed further while still protecting privacy rights by using social media. "
   ]
  },
  {
   "cell_type": "markdown",
   "metadata": {},
   "source": [
    "## Executive Summary"
   ]
  },
  {
   "cell_type": "markdown",
   "metadata": {},
   "source": [
    "Twitter data from California cities is currently not a good predictor of the Covid outbreak. To analyze the problem, we leveraged NLTK, sPacy, TextBlob, and Folium libraries to analyze tweet sentiment on a regional level and then to compare it to regional coronavirus cases data. For the first model, we used sPacy and nltk.opinion lexicon to label and predict tweet sentiment. For the second model, we used NLTK and TextBlob to label tweet sentiments then pipeline GridSearched a Logistic Regression to predict tweet sentiment. The tweets used as input for the models were pulled for seven California cities. The results of the first model were then plotted on a map with actual LA Times coronavirus data. The models did a good job predicting sentiment, however we did not find a strong relationship between tweet sentiment and Covid-19 outbreak cases. For next steps, we recommend gathering more data with location and further refine the sentiment labels. More details are located in the conclusion section."
   ]
  },
  {
   "cell_type": "markdown",
   "metadata": {},
   "source": [
    "# Contents"
   ]
  },
  {
   "cell_type": "markdown",
   "metadata": {},
   "source": [
    "- [Imports](#Imports)\n",
    "- [Model 1: sPacy + nltk.opinion_lexicon](#Model-1:-sPacy-+-nltk.opinion_lexicon)\n",
    "- [Model 2: TextBlob + nltk](#Model-2:-TextBlob-+-nltk)\n",
    "- [Conclusion](#Conclusion)"
   ]
  },
  {
   "cell_type": "markdown",
   "metadata": {},
   "source": [
    "# Imports"
   ]
  },
  {
   "cell_type": "markdown",
   "metadata": {},
   "source": [
    "### Setup all the libraries needed"
   ]
  },
  {
   "cell_type": "code",
   "execution_count": 7,
   "metadata": {},
   "outputs": [],
   "source": [
    "#Python\n",
    "import numpy as np\n",
    "import pandas as pd\n",
    "import time\n",
    "import regex as reg\n",
    "import os\n",
    "from pathlib import Path\n",
    "from collections import OrderedDict\n",
    "from operator import itemgetter\n",
    "#NLP\n",
    "import spacy as sp\n",
    "from nltk.corpus import opinion_lexicon\n",
    "#sklearn\n",
    "from sklearn.pipeline import make_pipeline, Pipeline\n",
    "from sklearn.feature_extraction.text import CountVectorizer,TfidfVectorizer\n",
    "from sklearn.linear_model import LogisticRegression\n",
    "from sklearn.model_selection import GridSearchCV\n",
    "from sklearn.model_selection import train_test_split\n",
    "from sklearn.metrics import confusion_matrix\n",
    "#Serialization \n",
    "import dill\n",
    "#Charts\n",
    "import seaborn as sns\n",
    "import matplotlib.pyplot as plt\n",
    "\n",
    "from IPython.core.interactiveshell import InteractiveShell\n",
    "InteractiveShell.ast_node_interactivity = \"all\"\n",
    "\n",
    "#Mapping\n",
    "import folium\n",
    "from folium import plugins\n",
    "from folium import plugins\n",
    "\n",
    "# Import Tokenizer\n",
    "from nltk.tokenize import RegexpTokenizer\n",
    "\n",
    "# Process text\n",
    "from nltk.stem import WordNetLemmatizer\n",
    "from nltk.corpus import stopwords, subjectivity\n",
    "from nltk.tokenize import word_tokenize\n",
    "from nltk.classify import NaiveBayesClassifier\n",
    "from nltk.sentiment import SentimentAnalyzer\n",
    "from nltk.sentiment.util import *\n",
    "\n",
    "# Other models\n",
    "from sklearn.naive_bayes import GaussianNB, BernoulliNB, MultinomialNB\n"
   ]
  },
  {
   "cell_type": "code",
   "execution_count": 54,
   "metadata": {},
   "outputs": [],
   "source": [
    "#dill.dump_session('tweet_sentiment.db')"
   ]
  },
  {
   "cell_type": "markdown",
   "metadata": {},
   "source": [
    "# Model 1: sPacy + nltk.opinion_lexicon"
   ]
  },
  {
   "cell_type": "markdown",
   "metadata": {},
   "source": [
    "### Import all the tweets from csv files into a DataFrame"
   ]
  },
  {
   "cell_type": "code",
   "execution_count": 2,
   "metadata": {},
   "outputs": [
    {
     "data": {
      "text/plain": [
       "4783"
      ]
     },
     "execution_count": 2,
     "metadata": {},
     "output_type": "execute_result"
    },
    {
     "data": {
      "text/plain": [
       "2006"
      ]
     },
     "execution_count": 2,
     "metadata": {},
     "output_type": "execute_result"
    }
   ],
   "source": [
    "len(opinion_lexicon.negative())\n",
    "len(opinion_lexicon.positive())\n",
    "#for w in range(len(opinion_lexicon.negative())):\n",
    "#              opinion_lexicon.negative()[w]"
   ]
  },
  {
   "cell_type": "code",
   "execution_count": 21,
   "metadata": {},
   "outputs": [],
   "source": [
    "filepath = '..'+os.sep+'Tweets_5_11/'\n",
    "list_of_files = os.listdir(filepath)"
   ]
  },
  {
   "cell_type": "code",
   "execution_count": 22,
   "metadata": {},
   "outputs": [],
   "source": [
    "tweet_df = pd.DataFrame()\n",
    "for p in list_of_files:\n",
    "    p = filepath + p\n",
    "    temp_df = pd.read_csv(p,usecols = ['tweet_id','text','region'])\n",
    "    tweet_df = tweet_df.append(temp_df)"
   ]
  },
  {
   "cell_type": "code",
   "execution_count": 23,
   "metadata": {},
   "outputs": [
    {
     "data": {
      "text/html": [
       "<div>\n",
       "<style scoped>\n",
       "    .dataframe tbody tr th:only-of-type {\n",
       "        vertical-align: middle;\n",
       "    }\n",
       "\n",
       "    .dataframe tbody tr th {\n",
       "        vertical-align: top;\n",
       "    }\n",
       "\n",
       "    .dataframe thead th {\n",
       "        text-align: right;\n",
       "    }\n",
       "</style>\n",
       "<table border=\"1\" class=\"dataframe\">\n",
       "  <thead>\n",
       "    <tr style=\"text-align: right;\">\n",
       "      <th></th>\n",
       "      <th>tweet_id</th>\n",
       "      <th>text</th>\n",
       "      <th>region</th>\n",
       "    </tr>\n",
       "  </thead>\n",
       "  <tbody>\n",
       "    <tr>\n",
       "      <th>0</th>\n",
       "      <td>1246588222903214080</td>\n",
       "      <td>Shaukat Khanum Memorial Cancer Hospital offers...</td>\n",
       "      <td>LA</td>\n",
       "    </tr>\n",
       "    <tr>\n",
       "      <th>1</th>\n",
       "      <td>1246587645779574784</td>\n",
       "      <td>Church congregants insisting on attending serv...</td>\n",
       "      <td>LA</td>\n",
       "    </tr>\n",
       "    <tr>\n",
       "      <th>2</th>\n",
       "      <td>1246585369899892738</td>\n",
       "      <td>Rendering of a new 44-unit affordable housing ...</td>\n",
       "      <td>LA</td>\n",
       "    </tr>\n",
       "    <tr>\n",
       "      <th>3</th>\n",
       "      <td>1246584511732695040</td>\n",
       "      <td>Double date, covid-style. pic.twitter.com/LWh2...</td>\n",
       "      <td>LA</td>\n",
       "    </tr>\n",
       "    <tr>\n",
       "      <th>4</th>\n",
       "      <td>1246584386583068672</td>\n",
       "      <td>Si tuvieran que sacrificar un pueblo para acab...</td>\n",
       "      <td>LA</td>\n",
       "    </tr>\n",
       "  </tbody>\n",
       "</table>\n",
       "</div>"
      ],
      "text/plain": [
       "              tweet_id                                               text  \\\n",
       "0  1246588222903214080  Shaukat Khanum Memorial Cancer Hospital offers...   \n",
       "1  1246587645779574784  Church congregants insisting on attending serv...   \n",
       "2  1246585369899892738  Rendering of a new 44-unit affordable housing ...   \n",
       "3  1246584511732695040  Double date, covid-style. pic.twitter.com/LWh2...   \n",
       "4  1246584386583068672  Si tuvieran que sacrificar un pueblo para acab...   \n",
       "\n",
       "  region  \n",
       "0     LA  \n",
       "1     LA  \n",
       "2     LA  \n",
       "3     LA  \n",
       "4     LA  "
      ]
     },
     "execution_count": 23,
     "metadata": {},
     "output_type": "execute_result"
    }
   ],
   "source": [
    "tweet_df.head()"
   ]
  },
  {
   "cell_type": "code",
   "execution_count": 8,
   "metadata": {},
   "outputs": [
    {
     "name": "stdout",
     "output_type": "stream",
     "text": [
      "<class 'pandas.core.frame.DataFrame'>\n",
      "Int64Index: 218684 entries, 0 to 457\n",
      "Data columns (total 3 columns):\n",
      " #   Column    Non-Null Count   Dtype \n",
      "---  ------    --------------   ----- \n",
      " 0   tweet_id  218684 non-null  object\n",
      " 1   text      218678 non-null  object\n",
      " 2   region    218678 non-null  object\n",
      "dtypes: object(3)\n",
      "memory usage: 6.7+ MB\n"
     ]
    },
    {
     "data": {
      "text/plain": [
       "tweet_id    0\n",
       "text        6\n",
       "region      6\n",
       "dtype: int64"
      ]
     },
     "execution_count": 8,
     "metadata": {},
     "output_type": "execute_result"
    }
   ],
   "source": [
    "tweet_df.info()\n",
    "tweet_df.isna().sum()"
   ]
  },
  {
   "cell_type": "code",
   "execution_count": 9,
   "metadata": {},
   "outputs": [],
   "source": [
    "tweet_df.drop_duplicates(subset = 'tweet_id',inplace=True)"
   ]
  },
  {
   "cell_type": "code",
   "execution_count": 10,
   "metadata": {},
   "outputs": [
    {
     "data": {
      "text/html": [
       "<div>\n",
       "<style scoped>\n",
       "    .dataframe tbody tr th:only-of-type {\n",
       "        vertical-align: middle;\n",
       "    }\n",
       "\n",
       "    .dataframe tbody tr th {\n",
       "        vertical-align: top;\n",
       "    }\n",
       "\n",
       "    .dataframe thead th {\n",
       "        text-align: right;\n",
       "    }\n",
       "</style>\n",
       "<table border=\"1\" class=\"dataframe\">\n",
       "  <thead>\n",
       "    <tr style=\"text-align: right;\">\n",
       "      <th></th>\n",
       "      <th>tweet_id</th>\n",
       "      <th>text</th>\n",
       "      <th>region</th>\n",
       "    </tr>\n",
       "  </thead>\n",
       "  <tbody>\n",
       "    <tr>\n",
       "      <th>0</th>\n",
       "      <td>1246588222903214080</td>\n",
       "      <td>Shaukat Khanum Memorial Cancer Hospital offers...</td>\n",
       "      <td>LA</td>\n",
       "    </tr>\n",
       "    <tr>\n",
       "      <th>1</th>\n",
       "      <td>1246587645779574784</td>\n",
       "      <td>Church congregants insisting on attending serv...</td>\n",
       "      <td>LA</td>\n",
       "    </tr>\n",
       "    <tr>\n",
       "      <th>2</th>\n",
       "      <td>1246585369899892738</td>\n",
       "      <td>Rendering of a new 44-unit affordable housing ...</td>\n",
       "      <td>LA</td>\n",
       "    </tr>\n",
       "    <tr>\n",
       "      <th>3</th>\n",
       "      <td>1246584511732695040</td>\n",
       "      <td>Double date, covid-style. pic.twitter.com/LWh2...</td>\n",
       "      <td>LA</td>\n",
       "    </tr>\n",
       "    <tr>\n",
       "      <th>4</th>\n",
       "      <td>1246584386583068672</td>\n",
       "      <td>Si tuvieran que sacrificar un pueblo para acab...</td>\n",
       "      <td>LA</td>\n",
       "    </tr>\n",
       "  </tbody>\n",
       "</table>\n",
       "</div>"
      ],
      "text/plain": [
       "              tweet_id                                               text  \\\n",
       "0  1246588222903214080  Shaukat Khanum Memorial Cancer Hospital offers...   \n",
       "1  1246587645779574784  Church congregants insisting on attending serv...   \n",
       "2  1246585369899892738  Rendering of a new 44-unit affordable housing ...   \n",
       "3  1246584511732695040  Double date, covid-style. pic.twitter.com/LWh2...   \n",
       "4  1246584386583068672  Si tuvieran que sacrificar un pueblo para acab...   \n",
       "\n",
       "  region  \n",
       "0     LA  \n",
       "1     LA  \n",
       "2     LA  \n",
       "3     LA  \n",
       "4     LA  "
      ]
     },
     "execution_count": 10,
     "metadata": {},
     "output_type": "execute_result"
    }
   ],
   "source": [
    "tweet_df.head()"
   ]
  },
  {
   "cell_type": "code",
   "execution_count": 11,
   "metadata": {},
   "outputs": [
    {
     "name": "stdout",
     "output_type": "stream",
     "text": [
      "<class 'pandas.core.frame.DataFrame'>\n",
      "Int64Index: 140596 entries, 0 to 1130\n",
      "Data columns (total 3 columns):\n",
      " #   Column    Non-Null Count   Dtype \n",
      "---  ------    --------------   ----- \n",
      " 0   tweet_id  140596 non-null  object\n",
      " 1   text      140592 non-null  object\n",
      " 2   region    140592 non-null  object\n",
      "dtypes: object(3)\n",
      "memory usage: 4.3+ MB\n"
     ]
    },
    {
     "data": {
      "text/plain": [
       "tweet_id    0\n",
       "text        4\n",
       "region      4\n",
       "dtype: int64"
      ]
     },
     "execution_count": 11,
     "metadata": {},
     "output_type": "execute_result"
    }
   ],
   "source": [
    "tweet_df.info()\n",
    "tweet_df.isna().sum()"
   ]
  },
  {
   "cell_type": "code",
   "execution_count": 13,
   "metadata": {},
   "outputs": [
    {
     "name": "stdout",
     "output_type": "stream",
     "text": [
      "<class 'pandas.core.frame.DataFrame'>\n",
      "Int64Index: 140588 entries, 0 to 1130\n",
      "Data columns (total 3 columns):\n",
      " #   Column    Non-Null Count   Dtype \n",
      "---  ------    --------------   ----- \n",
      " 0   tweet_id  140588 non-null  object\n",
      " 1   text      140588 non-null  object\n",
      " 2   region    140588 non-null  object\n",
      "dtypes: object(3)\n",
      "memory usage: 4.3+ MB\n"
     ]
    },
    {
     "data": {
      "text/plain": [
       "tweet_id    0\n",
       "text        0\n",
       "region      0\n",
       "dtype: int64"
      ]
     },
     "execution_count": 13,
     "metadata": {},
     "output_type": "execute_result"
    }
   ],
   "source": [
    "tweet_df.dropna(inplace=True)\n",
    "tweet_df.info()\n",
    "tweet_df.isna().sum()"
   ]
  },
  {
   "cell_type": "code",
   "execution_count": 14,
   "metadata": {},
   "outputs": [],
   "source": [
    "tweet_df.reset_index(inplace=True,drop = True)\n",
    "tweet_df = tweet_df.copy()"
   ]
  },
  {
   "cell_type": "code",
   "execution_count": 15,
   "metadata": {},
   "outputs": [
    {
     "data": {
      "text/html": [
       "<div>\n",
       "<style scoped>\n",
       "    .dataframe tbody tr th:only-of-type {\n",
       "        vertical-align: middle;\n",
       "    }\n",
       "\n",
       "    .dataframe tbody tr th {\n",
       "        vertical-align: top;\n",
       "    }\n",
       "\n",
       "    .dataframe thead th {\n",
       "        text-align: right;\n",
       "    }\n",
       "</style>\n",
       "<table border=\"1\" class=\"dataframe\">\n",
       "  <thead>\n",
       "    <tr style=\"text-align: right;\">\n",
       "      <th></th>\n",
       "      <th>tweet_id</th>\n",
       "      <th>text</th>\n",
       "      <th>region</th>\n",
       "    </tr>\n",
       "  </thead>\n",
       "  <tbody>\n",
       "    <tr>\n",
       "      <th>0</th>\n",
       "      <td>1246588222903214080</td>\n",
       "      <td>Shaukat Khanum Memorial Cancer Hospital offers...</td>\n",
       "      <td>LA</td>\n",
       "    </tr>\n",
       "    <tr>\n",
       "      <th>1</th>\n",
       "      <td>1246587645779574784</td>\n",
       "      <td>Church congregants insisting on attending serv...</td>\n",
       "      <td>LA</td>\n",
       "    </tr>\n",
       "    <tr>\n",
       "      <th>2</th>\n",
       "      <td>1246585369899892738</td>\n",
       "      <td>Rendering of a new 44-unit affordable housing ...</td>\n",
       "      <td>LA</td>\n",
       "    </tr>\n",
       "    <tr>\n",
       "      <th>3</th>\n",
       "      <td>1246584511732695040</td>\n",
       "      <td>Double date, covid-style. pic.twitter.com/LWh2...</td>\n",
       "      <td>LA</td>\n",
       "    </tr>\n",
       "    <tr>\n",
       "      <th>4</th>\n",
       "      <td>1246584386583068672</td>\n",
       "      <td>Si tuvieran que sacrificar un pueblo para acab...</td>\n",
       "      <td>LA</td>\n",
       "    </tr>\n",
       "  </tbody>\n",
       "</table>\n",
       "</div>"
      ],
      "text/plain": [
       "              tweet_id                                               text  \\\n",
       "0  1246588222903214080  Shaukat Khanum Memorial Cancer Hospital offers...   \n",
       "1  1246587645779574784  Church congregants insisting on attending serv...   \n",
       "2  1246585369899892738  Rendering of a new 44-unit affordable housing ...   \n",
       "3  1246584511732695040  Double date, covid-style. pic.twitter.com/LWh2...   \n",
       "4  1246584386583068672  Si tuvieran que sacrificar un pueblo para acab...   \n",
       "\n",
       "  region  \n",
       "0     LA  \n",
       "1     LA  \n",
       "2     LA  \n",
       "3     LA  \n",
       "4     LA  "
      ]
     },
     "execution_count": 15,
     "metadata": {},
     "output_type": "execute_result"
    }
   ],
   "source": [
    "tweet_df.head()"
   ]
  },
  {
   "cell_type": "markdown",
   "metadata": {},
   "source": [
    "### Import sPacy library for tokinzation and lemmatization of tweet text"
   ]
  },
  {
   "cell_type": "code",
   "execution_count": 16,
   "metadata": {},
   "outputs": [],
   "source": [
    "spacy_nlp = sp.load('en_core_web_sm')\n",
    "processed_tweet = []\n",
    "\n",
    "def clean_tweet(text):\n",
    "\n",
    "#replace anything that isn't a-z or A-Z with spaces including punctuations, exclamation etc\n",
    "#replace 'https://', 'www.' by space \n",
    "    ret_str = ' '\n",
    "    regex = r\"(.\\\\n|.\\\\t|.\\\\r)|([0-9]+)|([^\\w\\s])|(https{0,1}:\\/\\/\\S*)|(ww[wa-zA-Z0-9.com]+)|(pic.twitter\\S*)\"\n",
    "    ret_str = reg.sub(regex, '', str(text))\n",
    "    ret_str = ret_str.rstrip() \n",
    "    ret_str = ret_str.lstrip()\n",
    "    ret_str = ret_str.lower()\n",
    "    doc = spacy_nlp(ret_str)\n",
    "    all_lemmas =  [token.lemma_ for token in doc if  not token.is_stop \\\n",
    "                   and token.is_alpha and token.lemma_ != '-PRON-']\n",
    "    processed_tweet.append(\" \".join(all_lemmas)) # tweet cleaned up,tokenized.Copy each tweet as a string to the list\n",
    "    return all_lemmas #tweet cleaned up, tokenized return a list of tokens"
   ]
  },
  {
   "cell_type": "code",
   "execution_count": 17,
   "metadata": {},
   "outputs": [],
   "source": [
    "def process_tweet():\n",
    "    clean_tweets = []\n",
    "    start = time.perf_counter()\n",
    "    counter = 0\n",
    "    for row in tweet_df['text']:\n",
    "        clean_tweets.append(clean_tweet(row))\n",
    "        counter += 1\n",
    "        \n",
    "    print(f\"Processed {counter} rows in training data\")\n",
    "\n",
    "    end = time.perf_counter()\n",
    "\n",
    "    print(f\"Took { round((end-start)/60,0)} minutes to clean\")\n",
    "    return clean_tweets"
   ]
  },
  {
   "cell_type": "code",
   "execution_count": 18,
   "metadata": {},
   "outputs": [
    {
     "name": "stdout",
     "output_type": "stream",
     "text": [
      "Processed 140588 rows in training data\n",
      "Took 23.0 minutes to clean\n"
     ]
    }
   ],
   "source": [
    "tweet_tokens = process_tweet()"
   ]
  },
  {
   "cell_type": "markdown",
   "metadata": {},
   "source": [
    "### Engineer `sentiment` feature for each tweet by using `nltk.opinion_lexicon` corpus"
   ]
  },
  {
   "cell_type": "code",
   "execution_count": 19,
   "metadata": {},
   "outputs": [
    {
     "name": "stdout",
     "output_type": "stream",
     "text": [
      "Processed 10000 rows\n",
      "Processed 20000 rows\n",
      "Processed 30000 rows\n",
      "Processed 40000 rows\n",
      "Processed 50000 rows\n",
      "Processed 60000 rows\n",
      "Processed 70000 rows\n",
      "Processed 80000 rows\n",
      "Processed 90000 rows\n",
      "Processed 100000 rows\n",
      "Processed 110000 rows\n",
      "Processed 120000 rows\n",
      "Processed 130000 rows\n",
      "Processed 140000 rows\n",
      "Took 408.0 minutes for sentiment analysis\n"
     ]
    },
    {
     "data": {
      "text/plain": [
       "140588"
      ]
     },
     "execution_count": 19,
     "metadata": {},
     "output_type": "execute_result"
    }
   ],
   "source": [
    "count = 0 \n",
    "sentiment = []\n",
    "start = time.perf_counter()\n",
    "\n",
    "for tokens in tweet_tokens:\n",
    "    positive_words = 0\n",
    "    negative_words = 0\n",
    "    count += 1\n",
    "    for i in range(len(tokens)):\n",
    "        if tokens[i] in opinion_lexicon.positive():\n",
    "            positive_words += 1\n",
    "        elif tokens[i] in opinion_lexicon.negative():\n",
    "            negative_words += 1\n",
    "        \n",
    "    if positive_words > negative_words:\n",
    "        sentiment.append(1) #postive\n",
    "    elif positive_words < negative_words:\n",
    "        sentiment.append(-1) #negative\n",
    "    elif positive_words == negative_words:\n",
    "        sentiment.append(0) #neutral\n",
    "        \n",
    "    if count%10_000 == 0:\n",
    "        print(f\"Processed {count} rows\")\n",
    "            \n",
    "end = time.perf_counter()\n",
    "print(f\"Took { round((end-start)/60,0)} minutes for sentiment analysis\")          \n",
    "\n",
    "len(sentiment)"
   ]
  },
  {
   "cell_type": "code",
   "execution_count": 20,
   "metadata": {},
   "outputs": [],
   "source": [
    "tweet_df['tweettokens'] = tweet_tokens\n",
    "tweet_df['processedtweet'] = processed_tweet\n",
    "tweet_df['sentiment'] = sentiment"
   ]
  },
  {
   "cell_type": "code",
   "execution_count": 21,
   "metadata": {},
   "outputs": [
    {
     "name": "stdout",
     "output_type": "stream",
     "text": [
      "<class 'pandas.core.frame.DataFrame'>\n",
      "RangeIndex: 140588 entries, 0 to 140587\n",
      "Data columns (total 6 columns):\n",
      " #   Column          Non-Null Count   Dtype \n",
      "---  ------          --------------   ----- \n",
      " 0   tweet_id        140588 non-null  object\n",
      " 1   text            140588 non-null  object\n",
      " 2   region          140588 non-null  object\n",
      " 3   tweettokens     140588 non-null  object\n",
      " 4   processedtweet  140588 non-null  object\n",
      " 5   sentiment       140588 non-null  int64 \n",
      "dtypes: int64(1), object(5)\n",
      "memory usage: 6.4+ MB\n"
     ]
    },
    {
     "data": {
      "text/html": [
       "<div>\n",
       "<style scoped>\n",
       "    .dataframe tbody tr th:only-of-type {\n",
       "        vertical-align: middle;\n",
       "    }\n",
       "\n",
       "    .dataframe tbody tr th {\n",
       "        vertical-align: top;\n",
       "    }\n",
       "\n",
       "    .dataframe thead th {\n",
       "        text-align: right;\n",
       "    }\n",
       "</style>\n",
       "<table border=\"1\" class=\"dataframe\">\n",
       "  <thead>\n",
       "    <tr style=\"text-align: right;\">\n",
       "      <th></th>\n",
       "      <th>tweet_id</th>\n",
       "      <th>text</th>\n",
       "      <th>region</th>\n",
       "      <th>tweettokens</th>\n",
       "      <th>processedtweet</th>\n",
       "      <th>sentiment</th>\n",
       "    </tr>\n",
       "  </thead>\n",
       "  <tbody>\n",
       "    <tr>\n",
       "      <th>0</th>\n",
       "      <td>1246588222903214080</td>\n",
       "      <td>Shaukat Khanum Memorial Cancer Hospital offers...</td>\n",
       "      <td>LA</td>\n",
       "      <td>[shaukat, khanum, memorial, cancer, hospital, ...</td>\n",
       "      <td>shaukat khanum memorial cancer hospital offer ...</td>\n",
       "      <td>0</td>\n",
       "    </tr>\n",
       "    <tr>\n",
       "      <th>1</th>\n",
       "      <td>1246587645779574784</td>\n",
       "      <td>Church congregants insisting on attending serv...</td>\n",
       "      <td>LA</td>\n",
       "      <td>[church, congregant, insist, attend, service, ...</td>\n",
       "      <td>church congregant insist attend service wake c...</td>\n",
       "      <td>0</td>\n",
       "    </tr>\n",
       "    <tr>\n",
       "      <th>2</th>\n",
       "      <td>1246585369899892738</td>\n",
       "      <td>Rendering of a new 44-unit affordable housing ...</td>\n",
       "      <td>LA</td>\n",
       "      <td>[render, new, unit, affordable, housing, proje...</td>\n",
       "      <td>render new unit affordable housing project hav...</td>\n",
       "      <td>-1</td>\n",
       "    </tr>\n",
       "    <tr>\n",
       "      <th>3</th>\n",
       "      <td>1246584511732695040</td>\n",
       "      <td>Double date, covid-style. pic.twitter.com/LWh2...</td>\n",
       "      <td>LA</td>\n",
       "      <td>[double, date, covidstyle]</td>\n",
       "      <td>double date covidstyle</td>\n",
       "      <td>0</td>\n",
       "    </tr>\n",
       "    <tr>\n",
       "      <th>4</th>\n",
       "      <td>1246584386583068672</td>\n",
       "      <td>Si tuvieran que sacrificar un pueblo para acab...</td>\n",
       "      <td>LA</td>\n",
       "      <td>[si, tuvieran, que, sacrificar, un, pueblo, pa...</td>\n",
       "      <td>si tuvieran que sacrificar un pueblo para acab...</td>\n",
       "      <td>0</td>\n",
       "    </tr>\n",
       "  </tbody>\n",
       "</table>\n",
       "</div>"
      ],
      "text/plain": [
       "              tweet_id                                               text  \\\n",
       "0  1246588222903214080  Shaukat Khanum Memorial Cancer Hospital offers...   \n",
       "1  1246587645779574784  Church congregants insisting on attending serv...   \n",
       "2  1246585369899892738  Rendering of a new 44-unit affordable housing ...   \n",
       "3  1246584511732695040  Double date, covid-style. pic.twitter.com/LWh2...   \n",
       "4  1246584386583068672  Si tuvieran que sacrificar un pueblo para acab...   \n",
       "\n",
       "  region                                        tweettokens  \\\n",
       "0     LA  [shaukat, khanum, memorial, cancer, hospital, ...   \n",
       "1     LA  [church, congregant, insist, attend, service, ...   \n",
       "2     LA  [render, new, unit, affordable, housing, proje...   \n",
       "3     LA                         [double, date, covidstyle]   \n",
       "4     LA  [si, tuvieran, que, sacrificar, un, pueblo, pa...   \n",
       "\n",
       "                                      processedtweet  sentiment  \n",
       "0  shaukat khanum memorial cancer hospital offer ...          0  \n",
       "1  church congregant insist attend service wake c...          0  \n",
       "2  render new unit affordable housing project hav...         -1  \n",
       "3                             double date covidstyle          0  \n",
       "4  si tuvieran que sacrificar un pueblo para acab...          0  "
      ]
     },
     "execution_count": 21,
     "metadata": {},
     "output_type": "execute_result"
    }
   ],
   "source": [
    "tweet_df.info()\n",
    "tweet_df.head()"
   ]
  },
  {
   "cell_type": "code",
   "execution_count": 22,
   "metadata": {},
   "outputs": [
    {
     "data": {
      "text/plain": [
       " 0    0.379321\n",
       "-1    0.325647\n",
       " 1    0.295032\n",
       "Name: sentiment, dtype: float64"
      ]
     },
     "execution_count": 22,
     "metadata": {},
     "output_type": "execute_result"
    }
   ],
   "source": [
    "tweet_df['sentiment'].value_counts(normalize = True)\n",
    "# 0 - neutral, 1 - positive, -1 - negative"
   ]
  },
  {
   "cell_type": "markdown",
   "metadata": {},
   "source": [
    "### X,y variables and test train split"
   ]
  },
  {
   "cell_type": "code",
   "execution_count": 24,
   "metadata": {},
   "outputs": [],
   "source": [
    "X = tweet_df['processedtweet']\n",
    "y = tweet_df['sentiment']"
   ]
  },
  {
   "cell_type": "code",
   "execution_count": 25,
   "metadata": {},
   "outputs": [
    {
     "data": {
      "text/plain": [
       "(94193,)"
      ]
     },
     "execution_count": 25,
     "metadata": {},
     "output_type": "execute_result"
    },
    {
     "data": {
      "text/plain": [
       "(46395,)"
      ]
     },
     "execution_count": 25,
     "metadata": {},
     "output_type": "execute_result"
    },
    {
     "data": {
      "text/plain": [
       "(46395,)"
      ]
     },
     "execution_count": 25,
     "metadata": {},
     "output_type": "execute_result"
    },
    {
     "data": {
      "text/plain": [
       "(94193,)"
      ]
     },
     "execution_count": 25,
     "metadata": {},
     "output_type": "execute_result"
    }
   ],
   "source": [
    "X_train,X_test,y_train,y_test = train_test_split(X,y,test_size = 0.33,random_state = 111)\n",
    "X_train.shape\n",
    "X_test.shape\n",
    "y_test.shape\n",
    "y_train.shape"
   ]
  },
  {
   "cell_type": "markdown",
   "metadata": {},
   "source": [
    "### Plot most frequent words found across all the tweets"
   ]
  },
  {
   "cell_type": "code",
   "execution_count": 26,
   "metadata": {},
   "outputs": [],
   "source": [
    "def plot_words(x,y,color,title=''):\n",
    "    plt.figure(figsize = (17,8))\n",
    "    plt.style.use('fivethirtyeight')\n",
    "    plt.xlabel('Words', {'fontsize': 14})\n",
    "    plt.ylabel('Count',{'fontsize': 14})\n",
    "    plt.xticks(fontsize = 14, rotation = 'vertical')\n",
    "    plt.title('Top words ' + title , fontsize = 16)\n",
    "    plt.bar(x,y, color = color)"
   ]
  },
  {
   "cell_type": "code",
   "execution_count": 52,
   "metadata": {},
   "outputs": [],
   "source": [
    "def word_frequency(dataset,limit = 3000):\n",
    "\n",
    "    word_freq = {}\n",
    "    upper_limit = 0\n",
    "    \n",
    "    for s in dataset:\n",
    "        string = s.split(' ')\n",
    "        for w in string:\n",
    "            if word_freq.get(w):\n",
    "                word_freq[w] += 1\n",
    "            else:\n",
    "                word_freq[w] = 1\n",
    "\n",
    "    #sort the word_freq dictionary in descending order            \n",
    "    orderd_dict = OrderedDict(sorted(word_freq.items(), key=itemgetter(1), reverse = True))\n",
    "\n",
    "    words =[]\n",
    "    freq = []\n",
    "    count = 0\n",
    "\n",
    "    #only most frequent words else we will get a pretty long list of words\n",
    "    for k,v in orderd_dict.items():\n",
    "        if v > limit:\n",
    "            words.append(k)\n",
    "            freq.append(v)\n",
    "    return words, freq"
   ]
  },
  {
   "cell_type": "code",
   "execution_count": 53,
   "metadata": {},
   "outputs": [
    {
     "data": {
      "image/png": "[encoded data removed]",
      "text/plain": [
       "<Figure size 1224x576 with 1 Axes>"
      ]
     },
     "metadata": {},
     "output_type": "display_data"
    }
   ],
   "source": [
    "train_words, train_freq = word_frequency(tweet_df.processedtweet)\n",
    "plot_words(train_words,train_freq,'#418588')"
   ]
  },
  {
   "cell_type": "markdown",
   "metadata": {},
   "source": [
    "### Model building related.\n",
    "### Actual vs predicted values\n",
    "### Grid search function\n",
    "### Pipeline and hyperparameter setup"
   ]
  },
  {
   "cell_type": "code",
   "execution_count": 35,
   "metadata": {},
   "outputs": [],
   "source": [
    "def conf_matrix(gsobject,xdata,ydata):\n",
    "    predicted = gsobject.predict(xdata)\n",
    "    actual_predicted = pd.DataFrame({\"Actual\" : ydata, \"Predicted\": predicted, 'Text': xdata})\n",
    "    return actual_predicted"
   ]
  },
  {
   "cell_type": "code",
   "execution_count": 36,
   "metadata": {},
   "outputs": [],
   "source": [
    "#gs_type = grid search object\n",
    "#xtraindata,xtestdata = xtrain and xtest \n",
    "#ytraindata,ytest = ytrain and ytest\n",
    "def fit_grid_search(gs_type,xtraindata,ytraindata,xtestdata,ytestdata):\n",
    "    start = time.perf_counter()\n",
    "    gs_type.fit(xtraindata,ytraindata)\n",
    "    print(f\"Grid search accuracy for estimator \\033[1m{gs_type.estimator.steps[1][0]}\\033[0m \"\n",
    "          f\"transformer \\033[1m{gs_type.estimator.steps[0][0]}\\033[0m : \\n\")\n",
    "    print(f\"On training data is {gs_type.score(xtraindata,ytraindata)}\")\n",
    "    print(f\"On test data is {gs_type.score(xtestdata,ytestdata)}\")\n",
    "    print(f\"Grid search best score (avg of cv scores) {gs_type.best_score_}\\n\\n\")\n",
    "    print(f\"Model with best fitting parameter is \\n {gs_type.best_estimator_.get_params}\\n\\n\")\n",
    "    #print(gs_type.best_estimator_.named_steps['logisticregression'].coef_)\n",
    "    end = time.perf_counter()\n",
    "    print(f\"Took \\033[1m{ round((end-start)/60,0)}\\033[0m minutes to complete\")\n",
    "    cv_results_df = pd.DataFrame(gs_type.cv_results_)\n",
    "    return cv_results_df,gs_type"
   ]
  },
  {
   "cell_type": "code",
   "execution_count": 37,
   "metadata": {},
   "outputs": [],
   "source": [
    "pipette_tfidf = make_pipeline(TfidfVectorizer(),LogisticRegression())\n",
    "pipe_params_tfidf = {\n",
    "    'tfidfvectorizer__max_features': [15_000,25_000,30_000],\n",
    "    'tfidfvectorizer__ngram_range': [ (1,2),(1,3)],\n",
    "    'tfidfvectorizer__min_df' : [5,10], #discard words that appear in less than 5 or 10 documents\n",
    "    'tfidfvectorizer__max_df' : [0.80], #exclude words that cross this threshold(how many documents contained a term)\n",
    "    'tfidfvectorizer__stop_words' : [None],\n",
    "    'logisticregression__max_iter': [1000]\n",
    "}"
   ]
  },
  {
   "cell_type": "markdown",
   "metadata": {},
   "source": [
    "### Grid search using `TfidfVectorizer` . Not using stop words as we have already run our tweets through stop word list above¶"
   ]
  },
  {
   "cell_type": "code",
   "execution_count": 38,
   "metadata": {},
   "outputs": [],
   "source": [
    "gs_tfidf = GridSearchCV(pipette_tfidf, \n",
    "                  pipe_params_tfidf, \n",
    "                  cv = 5 ,\n",
    "                  verbose = 1)"
   ]
  },
  {
   "cell_type": "code",
   "execution_count": 39,
   "metadata": {},
   "outputs": [
    {
     "name": "stdout",
     "output_type": "stream",
     "text": [
      "Fitting 5 folds for each of 12 candidates, totalling 60 fits\n"
     ]
    },
    {
     "name": "stderr",
     "output_type": "stream",
     "text": [
      "[Parallel(n_jobs=1)]: Using backend SequentialBackend with 1 concurrent workers.\n",
      "[Parallel(n_jobs=1)]: Done  60 out of  60 | elapsed: 15.7min finished\n"
     ]
    },
    {
     "name": "stdout",
     "output_type": "stream",
     "text": [
      "Grid search accuracy for estimator \u001b[1mlogisticregression\u001b[0m transformer \u001b[1mtfidfvectorizer\u001b[0m : \n",
      "\n",
      "On training data is 0.8988778359326065\n",
      "On test data is 0.8480439702554154\n",
      "Grid search best score (avg of cv scores) 0.8342870395770585\n",
      "\n",
      "\n",
      "Model with best fitting parameter is \n",
      " <bound method Pipeline.get_params of Pipeline(memory=None,\n",
      "         steps=[('tfidfvectorizer',\n",
      "                 TfidfVectorizer(analyzer='word', binary=False,\n",
      "                                 decode_error='strict',\n",
      "                                 dtype=<class 'numpy.float64'>,\n",
      "                                 encoding='utf-8', input='content',\n",
      "                                 lowercase=True, max_df=0.8, max_features=15000,\n",
      "                                 min_df=5, ngram_range=(1, 2), norm='l2',\n",
      "                                 preprocessor=None, smooth_idf=True,\n",
      "                                 stop_words=None, strip_accents=None,\n",
      "                                 sublinear_tf=False,\n",
      "                                 token_pattern='(?u)\\\\b\\\\w\\\\w+\\\\b',\n",
      "                                 tokenizer=None, use_idf=True,\n",
      "                                 vocabulary=None)),\n",
      "                ('logisticregression',\n",
      "                 LogisticRegression(C=1.0, class_weight=None, dual=False,\n",
      "                                    fit_intercept=True, intercept_scaling=1,\n",
      "                                    l1_ratio=None, max_iter=1000,\n",
      "                                    multi_class='auto', n_jobs=None,\n",
      "                                    penalty='l2', random_state=None,\n",
      "                                    solver='lbfgs', tol=0.0001, verbose=0,\n",
      "                                    warm_start=False))],\n",
      "         verbose=False)>\n",
      "\n",
      "\n",
      "Took \u001b[1m16.0\u001b[0m minutes to complete\n"
     ]
    }
   ],
   "source": [
    "results_tfidf,gs_tfidf = fit_grid_search(gs_tfidf,X_train,y_train,X_test,y_test)"
   ]
  },
  {
   "cell_type": "markdown",
   "metadata": {},
   "source": [
    "### Actual sentiment vs predicted sentiment snapshot"
   ]
  },
  {
   "cell_type": "code",
   "execution_count": 40,
   "metadata": {},
   "outputs": [
    {
     "name": "stdout",
     "output_type": "stream",
     "text": [
      "\u001b[1mTraining set data\u001b[0m\n"
     ]
    },
    {
     "data": {
      "text/html": [
       "<div>\n",
       "<style scoped>\n",
       "    .dataframe tbody tr th:only-of-type {\n",
       "        vertical-align: middle;\n",
       "    }\n",
       "\n",
       "    .dataframe tbody tr th {\n",
       "        vertical-align: top;\n",
       "    }\n",
       "\n",
       "    .dataframe thead th {\n",
       "        text-align: right;\n",
       "    }\n",
       "</style>\n",
       "<table border=\"1\" class=\"dataframe\">\n",
       "  <thead>\n",
       "    <tr style=\"text-align: right;\">\n",
       "      <th></th>\n",
       "      <th>Actual</th>\n",
       "      <th>Predicted</th>\n",
       "      <th>Text</th>\n",
       "    </tr>\n",
       "  </thead>\n",
       "  <tbody>\n",
       "    <tr>\n",
       "      <th>1571</th>\n",
       "      <td>0</td>\n",
       "      <td>1</td>\n",
       "      <td>happy covid wednesday look get float stuffjust...</td>\n",
       "    </tr>\n",
       "    <tr>\n",
       "      <th>57792</th>\n",
       "      <td>0</td>\n",
       "      <td>1</td>\n",
       "      <td>not thank ioncardiff kit loan responsible appr...</td>\n",
       "    </tr>\n",
       "    <tr>\n",
       "      <th>79437</th>\n",
       "      <td>0</td>\n",
       "      <td>1</td>\n",
       "      <td>friend have conversation test covid despairing...</td>\n",
       "    </tr>\n",
       "    <tr>\n",
       "      <th>136634</th>\n",
       "      <td>0</td>\n",
       "      <td>1</td>\n",
       "      <td>world covid pandemic spread united state citiz...</td>\n",
       "    </tr>\n",
       "    <tr>\n",
       "      <th>78129</th>\n",
       "      <td>-1</td>\n",
       "      <td>0</td>\n",
       "      <td>try lifeinsurance pregnant pandemic ruackerman...</td>\n",
       "    </tr>\n",
       "    <tr>\n",
       "      <th>...</th>\n",
       "      <td>...</td>\n",
       "      <td>...</td>\n",
       "      <td>...</td>\n",
       "    </tr>\n",
       "    <tr>\n",
       "      <th>45567</th>\n",
       "      <td>1</td>\n",
       "      <td>-1</td>\n",
       "      <td>thought san francisco push release inmate la c...</td>\n",
       "    </tr>\n",
       "    <tr>\n",
       "      <th>61906</th>\n",
       "      <td>-1</td>\n",
       "      <td>0</td>\n",
       "      <td>shelter place pain ass s toilet paper store co...</td>\n",
       "    </tr>\n",
       "    <tr>\n",
       "      <th>17248</th>\n",
       "      <td>0</td>\n",
       "      <td>-1</td>\n",
       "      <td>covid kill wait hell greet trump supporter</td>\n",
       "    </tr>\n",
       "    <tr>\n",
       "      <th>104625</th>\n",
       "      <td>-1</td>\n",
       "      <td>0</td>\n",
       "      <td>relief strategy actually help worker small bus...</td>\n",
       "    </tr>\n",
       "    <tr>\n",
       "      <th>74681</th>\n",
       "      <td>1</td>\n",
       "      <td>0</td>\n",
       "      <td>stimulate mind kid quarantine stayathome preve...</td>\n",
       "    </tr>\n",
       "  </tbody>\n",
       "</table>\n",
       "<p>9525 rows × 3 columns</p>\n",
       "</div>"
      ],
      "text/plain": [
       "        Actual  Predicted                                               Text\n",
       "1571         0          1  happy covid wednesday look get float stuffjust...\n",
       "57792        0          1  not thank ioncardiff kit loan responsible appr...\n",
       "79437        0          1  friend have conversation test covid despairing...\n",
       "136634       0          1  world covid pandemic spread united state citiz...\n",
       "78129       -1          0  try lifeinsurance pregnant pandemic ruackerman...\n",
       "...        ...        ...                                                ...\n",
       "45567        1         -1  thought san francisco push release inmate la c...\n",
       "61906       -1          0  shelter place pain ass s toilet paper store co...\n",
       "17248        0         -1         covid kill wait hell greet trump supporter\n",
       "104625      -1          0  relief strategy actually help worker small bus...\n",
       "74681        1          0  stimulate mind kid quarantine stayathome preve...\n",
       "\n",
       "[9525 rows x 3 columns]"
      ]
     },
     "execution_count": 40,
     "metadata": {},
     "output_type": "execute_result"
    },
    {
     "name": "stdout",
     "output_type": "stream",
     "text": [
      "\u001b[1mTesting set data\u001b[0m\n"
     ]
    },
    {
     "data": {
      "text/html": [
       "<div>\n",
       "<style scoped>\n",
       "    .dataframe tbody tr th:only-of-type {\n",
       "        vertical-align: middle;\n",
       "    }\n",
       "\n",
       "    .dataframe tbody tr th {\n",
       "        vertical-align: top;\n",
       "    }\n",
       "\n",
       "    .dataframe thead th {\n",
       "        text-align: right;\n",
       "    }\n",
       "</style>\n",
       "<table border=\"1\" class=\"dataframe\">\n",
       "  <thead>\n",
       "    <tr style=\"text-align: right;\">\n",
       "      <th></th>\n",
       "      <th>Actual</th>\n",
       "      <th>Predicted</th>\n",
       "      <th>Text</th>\n",
       "    </tr>\n",
       "  </thead>\n",
       "  <tbody>\n",
       "    <tr>\n",
       "      <th>19993</th>\n",
       "      <td>1</td>\n",
       "      <td>0</td>\n",
       "      <td>florida not care anybody beach throw massive p...</td>\n",
       "    </tr>\n",
       "    <tr>\n",
       "      <th>116916</th>\n",
       "      <td>0</td>\n",
       "      <td>-1</td>\n",
       "      <td>bitch crave intimacy quarantine</td>\n",
       "    </tr>\n",
       "    <tr>\n",
       "      <th>21000</th>\n",
       "      <td>0</td>\n",
       "      <td>-1</td>\n",
       "      <td>fivesnap cityoflosal rec dept comprehensive da...</td>\n",
       "    </tr>\n",
       "    <tr>\n",
       "      <th>131475</th>\n",
       "      <td>1</td>\n",
       "      <td>0</td>\n",
       "      <td>helpful interactive datum visualization tool t...</td>\n",
       "    </tr>\n",
       "    <tr>\n",
       "      <th>35486</th>\n",
       "      <td>1</td>\n",
       "      <td>0</td>\n",
       "      <td>new podcast limelight highlight mother day mir...</td>\n",
       "    </tr>\n",
       "    <tr>\n",
       "      <th>...</th>\n",
       "      <td>...</td>\n",
       "      <td>...</td>\n",
       "      <td>...</td>\n",
       "    </tr>\n",
       "    <tr>\n",
       "      <th>43198</th>\n",
       "      <td>0</td>\n",
       "      <td>-1</td>\n",
       "      <td>quarantine period hard reset life ask advantag...</td>\n",
       "    </tr>\n",
       "    <tr>\n",
       "      <th>130558</th>\n",
       "      <td>-1</td>\n",
       "      <td>0</td>\n",
       "      <td>progresso lowkey washing chunky canned soup ba...</td>\n",
       "    </tr>\n",
       "    <tr>\n",
       "      <th>40493</th>\n",
       "      <td>-1</td>\n",
       "      <td>0</td>\n",
       "      <td>local building industry adapt covid restrictio...</td>\n",
       "    </tr>\n",
       "    <tr>\n",
       "      <th>136417</th>\n",
       "      <td>1</td>\n",
       "      <td>0</td>\n",
       "      <td>impotus brief plan place trumpknewanddidnoth f...</td>\n",
       "    </tr>\n",
       "    <tr>\n",
       "      <th>127725</th>\n",
       "      <td>1</td>\n",
       "      <td>0</td>\n",
       "      <td>icymi free social emotional learning guide foc...</td>\n",
       "    </tr>\n",
       "  </tbody>\n",
       "</table>\n",
       "<p>7050 rows × 3 columns</p>\n",
       "</div>"
      ],
      "text/plain": [
       "        Actual  Predicted                                               Text\n",
       "19993        1          0  florida not care anybody beach throw massive p...\n",
       "116916       0         -1                    bitch crave intimacy quarantine\n",
       "21000        0         -1  fivesnap cityoflosal rec dept comprehensive da...\n",
       "131475       1          0  helpful interactive datum visualization tool t...\n",
       "35486        1          0  new podcast limelight highlight mother day mir...\n",
       "...        ...        ...                                                ...\n",
       "43198        0         -1  quarantine period hard reset life ask advantag...\n",
       "130558      -1          0  progresso lowkey washing chunky canned soup ba...\n",
       "40493       -1          0  local building industry adapt covid restrictio...\n",
       "136417       1          0  impotus brief plan place trumpknewanddidnoth f...\n",
       "127725       1          0  icymi free social emotional learning guide foc...\n",
       "\n",
       "[7050 rows x 3 columns]"
      ]
     },
     "execution_count": 40,
     "metadata": {},
     "output_type": "execute_result"
    }
   ],
   "source": [
    "print(f\"\\033[1mTraining set data\\033[0m\")\n",
    "actual_v_predicted_train= conf_matrix(gs_tfidf,X_train,y_train)\n",
    "\n",
    "mask = actual_v_predicted_train[(actual_v_predicted_train['Actual']) != (actual_v_predicted_train['Predicted'])]\n",
    "mask\n",
    "\n",
    "print(f\"\\033[1mTesting set data\\033[0m\")\n",
    "actual_v_predicted_test = conf_matrix(gs_tfidf,X_test,y_test)\n",
    "\n",
    "mask = actual_v_predicted_test[(actual_v_predicted_test['Actual']) != (actual_v_predicted_test['Predicted'])]\n",
    "mask"
   ]
  },
  {
   "cell_type": "markdown",
   "metadata": {},
   "source": [
    "### Gridsearch using `CountVectorizer` \n",
    "### Not using stop words as we have already run our tweets through stop word list above"
   ]
  },
  {
   "cell_type": "code",
   "execution_count": 41,
   "metadata": {},
   "outputs": [],
   "source": [
    "pipette_cvect = make_pipeline(CountVectorizer(),LogisticRegression())\n",
    "pipe_params_cvect = {\n",
    "    'countvectorizer__max_features': [15_000,25_000,30_000],\n",
    "    'countvectorizer__ngram_range':  [(1,2),(1,3)],\n",
    "    'countvectorizer__min_df' : [5,10], #discard words that appear in less than 5 or 10 documents\n",
    "    'countvectorizer__max_df' : [0.8], #exclude words that cross this threshold(how many docs contained a term)\n",
    "    'countvectorizer__stop_words' : [None],\n",
    "    'logisticregression__max_iter': [1000]\n",
    "}"
   ]
  },
  {
   "cell_type": "code",
   "execution_count": 42,
   "metadata": {},
   "outputs": [],
   "source": [
    "gs_cvect = GridSearchCV(pipette_cvect, \n",
    "                  pipe_params_cvect, \n",
    "                  cv = 5,\n",
    "                  verbose = 1)"
   ]
  },
  {
   "cell_type": "code",
   "execution_count": 43,
   "metadata": {},
   "outputs": [
    {
     "name": "stdout",
     "output_type": "stream",
     "text": [
      "Fitting 5 folds for each of 12 candidates, totalling 60 fits\n"
     ]
    },
    {
     "name": "stderr",
     "output_type": "stream",
     "text": [
      "[Parallel(n_jobs=1)]: Using backend SequentialBackend with 1 concurrent workers.\n",
      "[Parallel(n_jobs=1)]: Done  60 out of  60 | elapsed: 18.9min finished\n"
     ]
    },
    {
     "name": "stdout",
     "output_type": "stream",
     "text": [
      "Grid search accuracy for estimator \u001b[1mlogisticregression\u001b[0m transformer \u001b[1mcountvectorizer\u001b[0m : \n",
      "\n",
      "On training data is 0.9655282239656875\n",
      "On test data is 0.9025541545425153\n",
      "Grid search best score (avg of cv scores) 0.8866794848312635\n",
      "\n",
      "\n",
      "Model with best fitting parameter is \n",
      " <bound method Pipeline.get_params of Pipeline(memory=None,\n",
      "         steps=[('countvectorizer',\n",
      "                 CountVectorizer(analyzer='word', binary=False,\n",
      "                                 decode_error='strict',\n",
      "                                 dtype=<class 'numpy.int64'>, encoding='utf-8',\n",
      "                                 input='content', lowercase=True, max_df=0.8,\n",
      "                                 max_features=15000, min_df=5,\n",
      "                                 ngram_range=(1, 2), preprocessor=None,\n",
      "                                 stop_words=None, strip_accents=None,\n",
      "                                 token_pattern='(?u)\\\\b\\\\w\\\\w+\\\\b',\n",
      "                                 tokenizer=None, vocabulary=None)),\n",
      "                ('logisticregression',\n",
      "                 LogisticRegression(C=1.0, class_weight=None, dual=False,\n",
      "                                    fit_intercept=True, intercept_scaling=1,\n",
      "                                    l1_ratio=None, max_iter=1000,\n",
      "                                    multi_class='auto', n_jobs=None,\n",
      "                                    penalty='l2', random_state=None,\n",
      "                                    solver='lbfgs', tol=0.0001, verbose=0,\n",
      "                                    warm_start=False))],\n",
      "         verbose=False)>\n",
      "\n",
      "\n",
      "Took \u001b[1m19.0\u001b[0m minutes to complete\n"
     ]
    }
   ],
   "source": [
    "results_cvect,gs_cvect = fit_grid_search(gs_cvect,X_train,y_train,X_test,y_test)"
   ]
  },
  {
   "cell_type": "markdown",
   "metadata": {},
   "source": [
    "### Actual sentiment vs predicted sentiment snapshot"
   ]
  },
  {
   "cell_type": "code",
   "execution_count": 44,
   "metadata": {},
   "outputs": [
    {
     "name": "stdout",
     "output_type": "stream",
     "text": [
      "\u001b[1mTraining set data\u001b[0m\n"
     ]
    },
    {
     "data": {
      "text/html": [
       "<div>\n",
       "<style scoped>\n",
       "    .dataframe tbody tr th:only-of-type {\n",
       "        vertical-align: middle;\n",
       "    }\n",
       "\n",
       "    .dataframe tbody tr th {\n",
       "        vertical-align: top;\n",
       "    }\n",
       "\n",
       "    .dataframe thead th {\n",
       "        text-align: right;\n",
       "    }\n",
       "</style>\n",
       "<table border=\"1\" class=\"dataframe\">\n",
       "  <thead>\n",
       "    <tr style=\"text-align: right;\">\n",
       "      <th></th>\n",
       "      <th>Actual</th>\n",
       "      <th>Predicted</th>\n",
       "      <th>Text</th>\n",
       "    </tr>\n",
       "  </thead>\n",
       "  <tbody>\n",
       "    <tr>\n",
       "      <th>1571</th>\n",
       "      <td>0</td>\n",
       "      <td>1</td>\n",
       "      <td>happy covid wednesday look get float stuffjust...</td>\n",
       "    </tr>\n",
       "    <tr>\n",
       "      <th>79437</th>\n",
       "      <td>0</td>\n",
       "      <td>1</td>\n",
       "      <td>friend have conversation test covid despairing...</td>\n",
       "    </tr>\n",
       "    <tr>\n",
       "      <th>43748</th>\n",
       "      <td>-1</td>\n",
       "      <td>0</td>\n",
       "      <td>lot available etsy have costume part insane pl...</td>\n",
       "    </tr>\n",
       "    <tr>\n",
       "      <th>118412</th>\n",
       "      <td>1</td>\n",
       "      <td>0</td>\n",
       "      <td>brilliant topical relatable substitute journal...</td>\n",
       "    </tr>\n",
       "    <tr>\n",
       "      <th>24514</th>\n",
       "      <td>0</td>\n",
       "      <td>1</td>\n",
       "      <td>great thread coronavirus complex system specia...</td>\n",
       "    </tr>\n",
       "    <tr>\n",
       "      <th>...</th>\n",
       "      <td>...</td>\n",
       "      <td>...</td>\n",
       "      <td>...</td>\n",
       "    </tr>\n",
       "    <tr>\n",
       "      <th>38899</th>\n",
       "      <td>-1</td>\n",
       "      <td>0</td>\n",
       "      <td>givingtuesdaynow emergency response covid time...</td>\n",
       "    </tr>\n",
       "    <tr>\n",
       "      <th>1898</th>\n",
       "      <td>1</td>\n",
       "      <td>0</td>\n",
       "      <td>girl not know invite real life birthday party ...</td>\n",
       "    </tr>\n",
       "    <tr>\n",
       "      <th>59298</th>\n",
       "      <td>0</td>\n",
       "      <td>1</td>\n",
       "      <td>not believe celebs sing song badly cure covid</td>\n",
       "    </tr>\n",
       "    <tr>\n",
       "      <th>104625</th>\n",
       "      <td>-1</td>\n",
       "      <td>0</td>\n",
       "      <td>relief strategy actually help worker small bus...</td>\n",
       "    </tr>\n",
       "    <tr>\n",
       "      <th>74681</th>\n",
       "      <td>1</td>\n",
       "      <td>0</td>\n",
       "      <td>stimulate mind kid quarantine stayathome preve...</td>\n",
       "    </tr>\n",
       "  </tbody>\n",
       "</table>\n",
       "<p>3247 rows × 3 columns</p>\n",
       "</div>"
      ],
      "text/plain": [
       "        Actual  Predicted                                               Text\n",
       "1571         0          1  happy covid wednesday look get float stuffjust...\n",
       "79437        0          1  friend have conversation test covid despairing...\n",
       "43748       -1          0  lot available etsy have costume part insane pl...\n",
       "118412       1          0  brilliant topical relatable substitute journal...\n",
       "24514        0          1  great thread coronavirus complex system specia...\n",
       "...        ...        ...                                                ...\n",
       "38899       -1          0  givingtuesdaynow emergency response covid time...\n",
       "1898         1          0  girl not know invite real life birthday party ...\n",
       "59298        0          1      not believe celebs sing song badly cure covid\n",
       "104625      -1          0  relief strategy actually help worker small bus...\n",
       "74681        1          0  stimulate mind kid quarantine stayathome preve...\n",
       "\n",
       "[3247 rows x 3 columns]"
      ]
     },
     "execution_count": 44,
     "metadata": {},
     "output_type": "execute_result"
    },
    {
     "name": "stdout",
     "output_type": "stream",
     "text": [
      "\u001b[1mTesting set data\u001b[0m\n"
     ]
    },
    {
     "data": {
      "text/html": [
       "<div>\n",
       "<style scoped>\n",
       "    .dataframe tbody tr th:only-of-type {\n",
       "        vertical-align: middle;\n",
       "    }\n",
       "\n",
       "    .dataframe tbody tr th {\n",
       "        vertical-align: top;\n",
       "    }\n",
       "\n",
       "    .dataframe thead th {\n",
       "        text-align: right;\n",
       "    }\n",
       "</style>\n",
       "<table border=\"1\" class=\"dataframe\">\n",
       "  <thead>\n",
       "    <tr style=\"text-align: right;\">\n",
       "      <th></th>\n",
       "      <th>Actual</th>\n",
       "      <th>Predicted</th>\n",
       "      <th>Text</th>\n",
       "    </tr>\n",
       "  </thead>\n",
       "  <tbody>\n",
       "    <tr>\n",
       "      <th>19993</th>\n",
       "      <td>1</td>\n",
       "      <td>0</td>\n",
       "      <td>florida not care anybody beach throw massive p...</td>\n",
       "    </tr>\n",
       "    <tr>\n",
       "      <th>64923</th>\n",
       "      <td>0</td>\n",
       "      <td>-1</td>\n",
       "      <td>quarantine project waterproof old ugly fence s...</td>\n",
       "    </tr>\n",
       "    <tr>\n",
       "      <th>39134</th>\n",
       "      <td>0</td>\n",
       "      <td>1</td>\n",
       "      <td>eliud lagarda teach rd grade ocean view hill e...</td>\n",
       "    </tr>\n",
       "    <tr>\n",
       "      <th>116916</th>\n",
       "      <td>0</td>\n",
       "      <td>-1</td>\n",
       "      <td>bitch crave intimacy quarantine</td>\n",
       "    </tr>\n",
       "    <tr>\n",
       "      <th>21000</th>\n",
       "      <td>0</td>\n",
       "      <td>-1</td>\n",
       "      <td>fivesnap cityoflosal rec dept comprehensive da...</td>\n",
       "    </tr>\n",
       "    <tr>\n",
       "      <th>...</th>\n",
       "      <td>...</td>\n",
       "      <td>...</td>\n",
       "      <td>...</td>\n",
       "    </tr>\n",
       "    <tr>\n",
       "      <th>33237</th>\n",
       "      <td>0</td>\n",
       "      <td>1</td>\n",
       "      <td>geraldorivera like rest trump puppet look fool...</td>\n",
       "    </tr>\n",
       "    <tr>\n",
       "      <th>18469</th>\n",
       "      <td>1</td>\n",
       "      <td>0</td>\n",
       "      <td>effectiveness moral message public health beha...</td>\n",
       "    </tr>\n",
       "    <tr>\n",
       "      <th>43198</th>\n",
       "      <td>0</td>\n",
       "      <td>-1</td>\n",
       "      <td>quarantine period hard reset life ask advantag...</td>\n",
       "    </tr>\n",
       "    <tr>\n",
       "      <th>130558</th>\n",
       "      <td>-1</td>\n",
       "      <td>0</td>\n",
       "      <td>progresso lowkey washing chunky canned soup ba...</td>\n",
       "    </tr>\n",
       "    <tr>\n",
       "      <th>127725</th>\n",
       "      <td>1</td>\n",
       "      <td>0</td>\n",
       "      <td>icymi free social emotional learning guide foc...</td>\n",
       "    </tr>\n",
       "  </tbody>\n",
       "</table>\n",
       "<p>4521 rows × 3 columns</p>\n",
       "</div>"
      ],
      "text/plain": [
       "        Actual  Predicted                                               Text\n",
       "19993        1          0  florida not care anybody beach throw massive p...\n",
       "64923        0         -1  quarantine project waterproof old ugly fence s...\n",
       "39134        0          1  eliud lagarda teach rd grade ocean view hill e...\n",
       "116916       0         -1                    bitch crave intimacy quarantine\n",
       "21000        0         -1  fivesnap cityoflosal rec dept comprehensive da...\n",
       "...        ...        ...                                                ...\n",
       "33237        0          1  geraldorivera like rest trump puppet look fool...\n",
       "18469        1          0  effectiveness moral message public health beha...\n",
       "43198        0         -1  quarantine period hard reset life ask advantag...\n",
       "130558      -1          0  progresso lowkey washing chunky canned soup ba...\n",
       "127725       1          0  icymi free social emotional learning guide foc...\n",
       "\n",
       "[4521 rows x 3 columns]"
      ]
     },
     "execution_count": 44,
     "metadata": {},
     "output_type": "execute_result"
    }
   ],
   "source": [
    "print(f\"\\033[1mTraining set data\\033[0m\")\n",
    "actual_v_predicted_train= conf_matrix(gs_cvect,X_train,y_train)\n",
    "\n",
    "mask = actual_v_predicted_train[(actual_v_predicted_train['Actual']) != (actual_v_predicted_train['Predicted'])]\n",
    "mask\n",
    "\n",
    "print(f\"\\033[1mTesting set data\\033[0m\")\n",
    "actual_v_predicted_test = conf_matrix(gs_cvect,X_test,y_test)\n",
    "\n",
    "mask = actual_v_predicted_test[(actual_v_predicted_test['Actual']) != (actual_v_predicted_test['Predicted'])]\n",
    "mask"
   ]
  },
  {
   "cell_type": "markdown",
   "metadata": {},
   "source": [
    "### Merge the `actual_v_predicted{train|test}` DataFrames into the original DataFrame \n",
    "### so that we can co-relate location for our predictions for eventual plotting on a map\n",
    "### Write the merged DataFrame to a .csv file"
   ]
  },
  {
   "cell_type": "code",
   "execution_count": 45,
   "metadata": {},
   "outputs": [],
   "source": [
    "output_df = pd.merge(tweet_df,actual_v_predicted_test[['Predicted']],how = 'left', left_index= True, right_index=True)\n",
    "output_df = pd.merge(output_df,actual_v_predicted_train[['Predicted']],how = 'left', left_index= True, right_index=True)"
   ]
  },
  {
   "cell_type": "code",
   "execution_count": 46,
   "metadata": {},
   "outputs": [
    {
     "data": {
      "text/html": [
       "<div>\n",
       "<style scoped>\n",
       "    .dataframe tbody tr th:only-of-type {\n",
       "        vertical-align: middle;\n",
       "    }\n",
       "\n",
       "    .dataframe tbody tr th {\n",
       "        vertical-align: top;\n",
       "    }\n",
       "\n",
       "    .dataframe thead th {\n",
       "        text-align: right;\n",
       "    }\n",
       "</style>\n",
       "<table border=\"1\" class=\"dataframe\">\n",
       "  <thead>\n",
       "    <tr style=\"text-align: right;\">\n",
       "      <th></th>\n",
       "      <th>tweet_id</th>\n",
       "      <th>text</th>\n",
       "      <th>region</th>\n",
       "      <th>tweettokens</th>\n",
       "      <th>processedtweet</th>\n",
       "      <th>sentiment</th>\n",
       "      <th>Predicted_x</th>\n",
       "      <th>Predicted_y</th>\n",
       "    </tr>\n",
       "  </thead>\n",
       "  <tbody>\n",
       "    <tr>\n",
       "      <th>0</th>\n",
       "      <td>1246588222903214080</td>\n",
       "      <td>Shaukat Khanum Memorial Cancer Hospital offers...</td>\n",
       "      <td>LA</td>\n",
       "      <td>[shaukat, khanum, memorial, cancer, hospital, ...</td>\n",
       "      <td>shaukat khanum memorial cancer hospital offer ...</td>\n",
       "      <td>0</td>\n",
       "      <td>0.0</td>\n",
       "      <td>NaN</td>\n",
       "    </tr>\n",
       "    <tr>\n",
       "      <th>1</th>\n",
       "      <td>1246587645779574784</td>\n",
       "      <td>Church congregants insisting on attending serv...</td>\n",
       "      <td>LA</td>\n",
       "      <td>[church, congregant, insist, attend, service, ...</td>\n",
       "      <td>church congregant insist attend service wake c...</td>\n",
       "      <td>0</td>\n",
       "      <td>NaN</td>\n",
       "      <td>0.0</td>\n",
       "    </tr>\n",
       "    <tr>\n",
       "      <th>2</th>\n",
       "      <td>1246585369899892738</td>\n",
       "      <td>Rendering of a new 44-unit affordable housing ...</td>\n",
       "      <td>LA</td>\n",
       "      <td>[render, new, unit, affordable, housing, proje...</td>\n",
       "      <td>render new unit affordable housing project hav...</td>\n",
       "      <td>-1</td>\n",
       "      <td>-1.0</td>\n",
       "      <td>NaN</td>\n",
       "    </tr>\n",
       "    <tr>\n",
       "      <th>3</th>\n",
       "      <td>1246584511732695040</td>\n",
       "      <td>Double date, covid-style. pic.twitter.com/LWh2...</td>\n",
       "      <td>LA</td>\n",
       "      <td>[double, date, covidstyle]</td>\n",
       "      <td>double date covidstyle</td>\n",
       "      <td>0</td>\n",
       "      <td>NaN</td>\n",
       "      <td>0.0</td>\n",
       "    </tr>\n",
       "    <tr>\n",
       "      <th>4</th>\n",
       "      <td>1246584386583068672</td>\n",
       "      <td>Si tuvieran que sacrificar un pueblo para acab...</td>\n",
       "      <td>LA</td>\n",
       "      <td>[si, tuvieran, que, sacrificar, un, pueblo, pa...</td>\n",
       "      <td>si tuvieran que sacrificar un pueblo para acab...</td>\n",
       "      <td>0</td>\n",
       "      <td>NaN</td>\n",
       "      <td>0.0</td>\n",
       "    </tr>\n",
       "  </tbody>\n",
       "</table>\n",
       "</div>"
      ],
      "text/plain": [
       "              tweet_id                                               text  \\\n",
       "0  1246588222903214080  Shaukat Khanum Memorial Cancer Hospital offers...   \n",
       "1  1246587645779574784  Church congregants insisting on attending serv...   \n",
       "2  1246585369899892738  Rendering of a new 44-unit affordable housing ...   \n",
       "3  1246584511732695040  Double date, covid-style. pic.twitter.com/LWh2...   \n",
       "4  1246584386583068672  Si tuvieran que sacrificar un pueblo para acab...   \n",
       "\n",
       "  region                                        tweettokens  \\\n",
       "0     LA  [shaukat, khanum, memorial, cancer, hospital, ...   \n",
       "1     LA  [church, congregant, insist, attend, service, ...   \n",
       "2     LA  [render, new, unit, affordable, housing, proje...   \n",
       "3     LA                         [double, date, covidstyle]   \n",
       "4     LA  [si, tuvieran, que, sacrificar, un, pueblo, pa...   \n",
       "\n",
       "                                      processedtweet  sentiment  Predicted_x  \\\n",
       "0  shaukat khanum memorial cancer hospital offer ...          0          0.0   \n",
       "1  church congregant insist attend service wake c...          0          NaN   \n",
       "2  render new unit affordable housing project hav...         -1         -1.0   \n",
       "3                             double date covidstyle          0          NaN   \n",
       "4  si tuvieran que sacrificar un pueblo para acab...          0          NaN   \n",
       "\n",
       "   Predicted_y  \n",
       "0          NaN  \n",
       "1          0.0  \n",
       "2          NaN  \n",
       "3          0.0  \n",
       "4          0.0  "
      ]
     },
     "execution_count": 46,
     "metadata": {},
     "output_type": "execute_result"
    },
    {
     "data": {
      "text/html": [
       "<div>\n",
       "<style scoped>\n",
       "    .dataframe tbody tr th:only-of-type {\n",
       "        vertical-align: middle;\n",
       "    }\n",
       "\n",
       "    .dataframe tbody tr th {\n",
       "        vertical-align: top;\n",
       "    }\n",
       "\n",
       "    .dataframe thead th {\n",
       "        text-align: right;\n",
       "    }\n",
       "</style>\n",
       "<table border=\"1\" class=\"dataframe\">\n",
       "  <thead>\n",
       "    <tr style=\"text-align: right;\">\n",
       "      <th></th>\n",
       "      <th>tweet_id</th>\n",
       "      <th>text</th>\n",
       "      <th>region</th>\n",
       "      <th>tweettokens</th>\n",
       "      <th>processedtweet</th>\n",
       "      <th>sentiment</th>\n",
       "      <th>Predicted_x</th>\n",
       "      <th>Predicted_y</th>\n",
       "    </tr>\n",
       "  </thead>\n",
       "  <tbody>\n",
       "    <tr>\n",
       "      <th>140583</th>\n",
       "      <td>1254934455317229574</td>\n",
       "      <td>Great virtual event on deck this week with @WI...</td>\n",
       "      <td>SD</td>\n",
       "      <td>[great, virtual, event, deck, week, wisesandie...</td>\n",
       "      <td>great virtual event deck week wisesandiego wed...</td>\n",
       "      <td>1</td>\n",
       "      <td>NaN</td>\n",
       "      <td>1.0</td>\n",
       "    </tr>\n",
       "    <tr>\n",
       "      <th>140584</th>\n",
       "      <td>1254932501065199616</td>\n",
       "      <td>Maybe my quarantine journal will be screen gra...</td>\n",
       "      <td>SD</td>\n",
       "      <td>[maybe, quarantine, journal, screen, grab, pro...</td>\n",
       "      <td>maybe quarantine journal screen grab proud twe...</td>\n",
       "      <td>1</td>\n",
       "      <td>1.0</td>\n",
       "      <td>NaN</td>\n",
       "    </tr>\n",
       "    <tr>\n",
       "      <th>140585</th>\n",
       "      <td>1254929997455749121</td>\n",
       "      <td>my dad has been growing a quarantine beard and...</td>\n",
       "      <td>SD</td>\n",
       "      <td>[dad, grow, quarantine, beard, look, like, lor...</td>\n",
       "      <td>dad grow quarantine beard look like lord ring ...</td>\n",
       "      <td>1</td>\n",
       "      <td>NaN</td>\n",
       "      <td>1.0</td>\n",
       "    </tr>\n",
       "    <tr>\n",
       "      <th>140586</th>\n",
       "      <td>1254927732699353088</td>\n",
       "      <td>i would take a razor scooter to the ankle for ...</td>\n",
       "      <td>SD</td>\n",
       "      <td>[razor, scooter, ankle, quarantine]</td>\n",
       "      <td>razor scooter ankle quarantine</td>\n",
       "      <td>0</td>\n",
       "      <td>NaN</td>\n",
       "      <td>0.0</td>\n",
       "    </tr>\n",
       "    <tr>\n",
       "      <th>140587</th>\n",
       "      <td>1254925467531898880</td>\n",
       "      <td>Eternal Summer is the song of the quarantine</td>\n",
       "      <td>SD</td>\n",
       "      <td>[eternal, summer, song, quarantine]</td>\n",
       "      <td>eternal summer song quarantine</td>\n",
       "      <td>0</td>\n",
       "      <td>NaN</td>\n",
       "      <td>0.0</td>\n",
       "    </tr>\n",
       "  </tbody>\n",
       "</table>\n",
       "</div>"
      ],
      "text/plain": [
       "                   tweet_id  \\\n",
       "140583  1254934455317229574   \n",
       "140584  1254932501065199616   \n",
       "140585  1254929997455749121   \n",
       "140586  1254927732699353088   \n",
       "140587  1254925467531898880   \n",
       "\n",
       "                                                     text region  \\\n",
       "140583  Great virtual event on deck this week with @WI...     SD   \n",
       "140584  Maybe my quarantine journal will be screen gra...     SD   \n",
       "140585  my dad has been growing a quarantine beard and...     SD   \n",
       "140586  i would take a razor scooter to the ankle for ...     SD   \n",
       "140587       Eternal Summer is the song of the quarantine     SD   \n",
       "\n",
       "                                              tweettokens  \\\n",
       "140583  [great, virtual, event, deck, week, wisesandie...   \n",
       "140584  [maybe, quarantine, journal, screen, grab, pro...   \n",
       "140585  [dad, grow, quarantine, beard, look, like, lor...   \n",
       "140586                [razor, scooter, ankle, quarantine]   \n",
       "140587                [eternal, summer, song, quarantine]   \n",
       "\n",
       "                                           processedtweet  sentiment  \\\n",
       "140583  great virtual event deck week wisesandiego wed...          1   \n",
       "140584  maybe quarantine journal screen grab proud twe...          1   \n",
       "140585  dad grow quarantine beard look like lord ring ...          1   \n",
       "140586                     razor scooter ankle quarantine          0   \n",
       "140587                     eternal summer song quarantine          0   \n",
       "\n",
       "        Predicted_x  Predicted_y  \n",
       "140583          NaN          1.0  \n",
       "140584          1.0          NaN  \n",
       "140585          NaN          1.0  \n",
       "140586          NaN          0.0  \n",
       "140587          NaN          0.0  "
      ]
     },
     "execution_count": 46,
     "metadata": {},
     "output_type": "execute_result"
    },
    {
     "name": "stdout",
     "output_type": "stream",
     "text": [
      "<class 'pandas.core.frame.DataFrame'>\n",
      "RangeIndex: 140588 entries, 0 to 140587\n",
      "Data columns (total 8 columns):\n",
      " #   Column          Non-Null Count   Dtype  \n",
      "---  ------          --------------   -----  \n",
      " 0   tweet_id        140588 non-null  object \n",
      " 1   text            140588 non-null  object \n",
      " 2   region          140588 non-null  object \n",
      " 3   tweettokens     140588 non-null  object \n",
      " 4   processedtweet  140588 non-null  object \n",
      " 5   sentiment       140588 non-null  int64  \n",
      " 6   Predicted_x     46395 non-null   float64\n",
      " 7   Predicted_y     94193 non-null   float64\n",
      "dtypes: float64(2), int64(1), object(5)\n",
      "memory usage: 8.6+ MB\n"
     ]
    }
   ],
   "source": [
    "output_df.head()\n",
    "output_df.tail()\n",
    "output_df.info()"
   ]
  },
  {
   "cell_type": "code",
   "execution_count": 50,
   "metadata": {},
   "outputs": [],
   "source": [
    "output_df.to_csv('model_loc_sentiment.csv',index = False)"
   ]
  },
  {
   "cell_type": "markdown",
   "metadata": {},
   "source": [
    "# Model 2: TextBlob + nltk"
   ]
  },
  {
   "cell_type": "markdown",
   "metadata": {},
   "source": [
    "### Data Gathering"
   ]
  },
  {
   "cell_type": "code",
   "execution_count": 8,
   "metadata": {},
   "outputs": [],
   "source": [
    "filepath = '../Tweets_5_11/'\n",
    "list_of_files = os.listdir(filepath)"
   ]
  },
  {
   "cell_type": "code",
   "execution_count": 9,
   "metadata": {},
   "outputs": [
    {
     "data": {
      "text/plain": [
       "['tweet_BAKERSFIELD_3_1_12.csv',\n",
       " 'tweet_BAKERSFIELD_3_23_31.csv',\n",
       " 'tweet_BAKERSFIELD_4_12_23.csv',\n",
       " 'tweet_BAKERSFIELD_4_1_12.csv',\n",
       " 'tweet_BAKERSFIELD_4_23_30.csv',\n",
       " 'tweet_BAKERSFIELD_5_12_23.csv',\n",
       " 'tweet_BAKERSFIELD_5_1_12.csv',\n",
       " 'tweet_BAKERSFIELD_5_23_31.csv',\n",
       " 'tweet_CHICO_3_14_27.csv',\n",
       " 'tweet_CHICO_3_1_14.csv',\n",
       " 'tweet_CHICO_3_27_31.csv',\n",
       " 'tweet_CHICO_4_14_27.csv',\n",
       " 'tweet_CHICO_4_1_14.csv',\n",
       " 'tweet_LA_3_12_23.csv',\n",
       " 'tweet_LA_3_1_12.csv',\n",
       " 'tweet_LA_3_23_31.csv',\n",
       " 'tweet_LA_4_12_23.csv',\n",
       " 'tweet_LA_4_1_12.csv',\n",
       " 'tweet_LA_4_23_30.csv',\n",
       " 'tweet_LA_5_12_23.csv',\n",
       " 'tweet_LA_5_1_12.csv',\n",
       " 'tweet_REDDING_3_12_23.csv',\n",
       " 'tweet_REDDING_3_14_27.csv',\n",
       " 'tweet_REDDING_3_1_12.csv',\n",
       " 'tweet_REDDING_3_1_14.csv',\n",
       " 'tweet_REDDING_3_23_31.csv',\n",
       " 'tweet_REDDING_3_27_31.csv',\n",
       " 'tweet_REDDING_4_14_27.csv',\n",
       " 'tweet_REDDING_4_1_12.csv',\n",
       " 'tweet_REDDING_4_1_14.csv',\n",
       " 'tweet_REDDING_4_27_30.csv',\n",
       " 'tweet_REDDING_5_14_27.csv',\n",
       " 'tweet_REDDING_5_1_14.csv',\n",
       " 'tweet_SAC_3_14_27.csv',\n",
       " 'tweet_SAC_3_1_14.csv',\n",
       " 'tweet_SAC_3_27_31.csv',\n",
       " 'tweet_SAC_4_14_27.csv',\n",
       " 'tweet_SAC_4_1_14.csv',\n",
       " 'tweet_SAC_4_27_30.csv',\n",
       " 'tweet_SAC_5_14_27.csv',\n",
       " 'tweet_SAC_5_1_14.csv',\n",
       " 'tweet_SD_3_14_27.csv',\n",
       " 'tweet_SD_3_1_14.csv',\n",
       " 'tweet_SD_3_27_31.csv',\n",
       " 'tweet_SD_4_14_27.csv',\n",
       " 'tweet_SD_4_1_14.csv',\n",
       " 'tweet_SD_4_27_30.csv',\n",
       " 'tweet_SD_5_14_27.csv',\n",
       " 'tweet_SD_5_1_14.csv',\n",
       " 'tweet_SF_3_12_23.csv',\n",
       " 'tweet_SF_3_1_12.csv',\n",
       " 'tweet_SF_3_23_31.csv',\n",
       " 'tweet_SF_4_12_23.csv',\n",
       " 'tweet_SF_4_1_12.csv',\n",
       " 'tweet_SF_4_23_30.csv',\n",
       " 'tweet_SF_5_12_23.csv',\n",
       " 'tweet_SF_5_1_12.csv']"
      ]
     },
     "execution_count": 9,
     "metadata": {},
     "output_type": "execute_result"
    }
   ],
   "source": [
    "list_of_files = list_of_files[1:]\n",
    "list_of_files"
   ]
  },
  {
   "cell_type": "code",
   "execution_count": 37,
   "metadata": {},
   "outputs": [],
   "source": [
    "tweets = pd.DataFrame()\n",
    "for p in list_of_files:\n",
    "    p = filepath + p\n",
    "    temp_df = pd.read_csv(p, usecols = ['tweet_id','text','region'])\n",
    "    tweets = tweets.append(temp_df)\n",
    "    "
   ]
  },
  {
   "cell_type": "markdown",
   "metadata": {},
   "source": [
    "### EDA"
   ]
  },
  {
   "cell_type": "code",
   "execution_count": 41,
   "metadata": {},
   "outputs": [],
   "source": [
    "# drop duplicates\n",
    "tweets.drop_duplicates(inplace = True)\n",
    "\n",
    "# reset index\n",
    "tweets.reset_index(drop = True, inplace = True)"
   ]
  },
  {
   "cell_type": "code",
   "execution_count": 42,
   "metadata": {},
   "outputs": [
    {
     "data": {
      "text/plain": [
       "LA             47023\n",
       "SF             42219\n",
       "SD             28624\n",
       "SAC            18984\n",
       "BAKERSFIELD     3020\n",
       "REDDING          939\n",
       "CHICO            607\n",
       "Name: region, dtype: int64"
      ]
     },
     "execution_count": 42,
     "metadata": {},
     "output_type": "execute_result"
    }
   ],
   "source": [
    "tweets['region'].value_counts()"
   ]
  },
  {
   "cell_type": "code",
   "execution_count": 43,
   "metadata": {},
   "outputs": [
    {
     "data": {
      "text/plain": [
       "(141420, 3)"
      ]
     },
     "execution_count": 43,
     "metadata": {},
     "output_type": "execute_result"
    }
   ],
   "source": [
    "tweets.shape"
   ]
  },
  {
   "cell_type": "code",
   "execution_count": 44,
   "metadata": {},
   "outputs": [
    {
     "data": {
      "text/plain": [
       "tweet_id    0\n",
       "text        4\n",
       "region      4\n",
       "dtype: int64"
      ]
     },
     "execution_count": 44,
     "metadata": {},
     "output_type": "execute_result"
    }
   ],
   "source": [
    "# check nulls\n",
    "tweets.isnull().sum()"
   ]
  },
  {
   "cell_type": "code",
   "execution_count": 45,
   "metadata": {},
   "outputs": [],
   "source": [
    "# removing nulls since there aren't many\n",
    "tweets.dropna(inplace = True)"
   ]
  },
  {
   "cell_type": "code",
   "execution_count": 46,
   "metadata": {},
   "outputs": [],
   "source": [
    "# text cleaning\n",
    "\n",
    "def process_text(X):\n",
    "    X_clean = []    \n",
    "    counter = 0\n",
    "\n",
    "    for train in X:\n",
    "        X_clean.append(clean_text(train))\n",
    "        counter += 1\n",
    "    print(f\"Processed {counter} rows in data\")\n",
    "\n",
    "    return X_clean\n",
    "\n",
    "\n",
    "def clean_text(text):\n",
    "\n",
    "#replace anything that isn't a-z or A-Z with spaces including punctuations, exclamation etc\n",
    "#replace 'https://', 'www.' by space \n",
    "    ret_str = ' '\n",
    "    regex = r\"(.\\\\n|.\\\\t|.\\\\r)|([0-9]+)|([^\\w\\s])|(https{0,1}:\\/\\/\\S*)|(ww[wa-zA-Z0-9.com]+)\"\n",
    "    ret_str = reg.sub(regex, '', str(text))\n",
    "    ret_str = ret_str.rstrip() \n",
    "    ret_str = ret_str.lstrip()\n",
    "    ret_str = ret_str.lower()\n",
    "    tokenizer = RegexpTokenizer(r'\\w+')\n",
    "    doc = tokenizer.tokenize(ret_str)\n",
    "    lemmatizer = WordNetLemmatizer()\n",
    "    all_lemmas =  [lemmatizer.lemmatize(token) for token in doc]\n",
    "    return(\" \".join(all_lemmas)) "
   ]
  },
  {
   "cell_type": "code",
   "execution_count": 47,
   "metadata": {},
   "outputs": [
    {
     "name": "stdout",
     "output_type": "stream",
     "text": [
      "Processed 141412 rows in data\n"
     ]
    }
   ],
   "source": [
    "tweets['clean_text'] = process_text(tweets['text'])"
   ]
  },
  {
   "cell_type": "code",
   "execution_count": 48,
   "metadata": {},
   "outputs": [
    {
     "data": {
      "text/html": [
       "<div>\n",
       "<style scoped>\n",
       "    .dataframe tbody tr th:only-of-type {\n",
       "        vertical-align: middle;\n",
       "    }\n",
       "\n",
       "    .dataframe tbody tr th {\n",
       "        vertical-align: top;\n",
       "    }\n",
       "\n",
       "    .dataframe thead th {\n",
       "        text-align: right;\n",
       "    }\n",
       "</style>\n",
       "<table border=\"1\" class=\"dataframe\">\n",
       "  <thead>\n",
       "    <tr style=\"text-align: right;\">\n",
       "      <th></th>\n",
       "      <th>text</th>\n",
       "      <th>clean_text</th>\n",
       "    </tr>\n",
       "  </thead>\n",
       "  <tbody>\n",
       "    <tr>\n",
       "      <th>0</th>\n",
       "      <td>Initially I thought this Covid-19 shit was a h...</td>\n",
       "      <td>initially i thought this covid shit wa a hoax ...</td>\n",
       "    </tr>\n",
       "    <tr>\n",
       "      <th>1</th>\n",
       "      <td>Megan Person, Kern County Comms director, says...</td>\n",
       "      <td>megan person kern county comms director say th...</td>\n",
       "    </tr>\n",
       "    <tr>\n",
       "      <th>2</th>\n",
       "      <td>Lysol helps kill a regular coronavirus but DOE...</td>\n",
       "      <td>lysol help kill a regular coronavirus but doe ...</td>\n",
       "    </tr>\n",
       "    <tr>\n",
       "      <th>3</th>\n",
       "      <td>#Covid_19 FACT #2 addresses questions we’ve be...</td>\n",
       "      <td>covid_ fact address question weve been getting...</td>\n",
       "    </tr>\n",
       "    <tr>\n",
       "      <th>4</th>\n",
       "      <td>Ben Carson oh I sorry Dr. Ben Carson a neurosu...</td>\n",
       "      <td>ben carson oh i sorry dr ben carson a neurosur...</td>\n",
       "    </tr>\n",
       "  </tbody>\n",
       "</table>\n",
       "</div>"
      ],
      "text/plain": [
       "                                                text  \\\n",
       "0  Initially I thought this Covid-19 shit was a h...   \n",
       "1  Megan Person, Kern County Comms director, says...   \n",
       "2  Lysol helps kill a regular coronavirus but DOE...   \n",
       "3  #Covid_19 FACT #2 addresses questions we’ve be...   \n",
       "4  Ben Carson oh I sorry Dr. Ben Carson a neurosu...   \n",
       "\n",
       "                                          clean_text  \n",
       "0  initially i thought this covid shit wa a hoax ...  \n",
       "1  megan person kern county comms director say th...  \n",
       "2  lysol help kill a regular coronavirus but doe ...  \n",
       "3  covid_ fact address question weve been getting...  \n",
       "4  ben carson oh i sorry dr ben carson a neurosur...  "
      ]
     },
     "execution_count": 48,
     "metadata": {},
     "output_type": "execute_result"
    }
   ],
   "source": [
    "# checking original vs clean text\n",
    "tweets[['text', 'clean_text']].head()"
   ]
  },
  {
   "cell_type": "markdown",
   "metadata": {},
   "source": [
    "### Model: Labeling Sentiment with TextBlob"
   ]
  },
  {
   "cell_type": "code",
   "execution_count": 49,
   "metadata": {},
   "outputs": [],
   "source": [
    "# predicting sentiment\n",
    "\n",
    "clean_text = tweets['clean_text'].values.tolist()\n",
    "\n",
    "from textblob import TextBlob\n",
    "sentiment =[]\n",
    "\n",
    "for i in range(len(clean_text)):\n",
    "    sentiment.append(TextBlob(clean_text[i]).sentiment.polarity)\n",
    "\n",
    "tweets['sentiment_score'] = sentiment"
   ]
  },
  {
   "cell_type": "code",
   "execution_count": 50,
   "metadata": {},
   "outputs": [],
   "source": [
    "# placed sentiment scores into three buckets related to negative, neutral, and positive tweets\n",
    "tweets['sentiment'] = tweets['sentiment_score'].apply(lambda x: 1 if x > 0 \n",
    "                                                      else -1 if x < 0\n",
    "                                                      else 0)"
   ]
  },
  {
   "cell_type": "markdown",
   "metadata": {},
   "source": [
    "### Results of Sentiment Labels"
   ]
  },
  {
   "cell_type": "code",
   "execution_count": 51,
   "metadata": {},
   "outputs": [
    {
     "data": {
      "text/plain": [
       "region       sentiment\n",
       "BAKERSFIELD  -1             700\n",
       "              0            1072\n",
       "              1            1248\n",
       "CHICO        -1             145\n",
       "              0             213\n",
       "              1             249\n",
       "LA           -1           10267\n",
       "              0           15875\n",
       "              1           20880\n",
       "REDDING      -1             244\n",
       "              0             328\n",
       "              1             367\n",
       "SAC          -1            4181\n",
       "              0            6306\n",
       "              1            8496\n",
       "SD           -1            5695\n",
       "              0           11317\n",
       "              1           11611\n",
       "SF           -1            8693\n",
       "              0           14524\n",
       "              1           19001\n",
       "Name: sentiment, dtype: int64"
      ]
     },
     "execution_count": 51,
     "metadata": {},
     "output_type": "execute_result"
    }
   ],
   "source": [
    "# count of negative, neutral, and positive tweets\n",
    "tweets.groupby(['region','sentiment'])['sentiment'].count()"
   ]
  },
  {
   "cell_type": "markdown",
   "metadata": {},
   "source": [
    "### Model: Predicting Sentiment with Logistic Regression using sentiment labels from TextBlob model"
   ]
  },
  {
   "cell_type": "code",
   "execution_count": 52,
   "metadata": {},
   "outputs": [],
   "source": [
    "# predicting sentiment with Logistic Regression\n",
    "\n",
    "def grid_search_reddit_lr(X_train, X_test, y_train, y_test, vectorizer = TfidfVectorizer(), ngram = [(1,1), (2,2), (1,2)],\n",
    "                       stop_w = ['english'], penalty = ['none', 'l2'], c = [0.2,0.5, 1,2,3], m_iter = [1000], max_d = [1.0], min_d = [1], max_f = [None], accents = [None]):\n",
    "    \n",
    "    # Define Pipeline - Remeber the step structure (list of tuple)\n",
    "    pipe = Pipeline(steps = [('vectorizer', vectorizer),\n",
    "                             ('model', LogisticRegression())\n",
    "                              ])\n",
    "\n",
    "    # Construct Grid Parameters\n",
    "    hyperparams = {'vectorizer__ngram_range': ngram,\n",
    "                   'vectorizer__stop_words': stop_w,\n",
    "                   'vectorizer__max_df': max_d,\n",
    "                   'vectorizer__min_df': min_d,\n",
    "                   'vectorizer__max_features': max_f,\n",
    "                   'vectorizer__strip_accents': accents,\n",
    "                   'model__penalty': penalty,\n",
    "                   'model__C': c,\n",
    "                   'model__max_iter': m_iter\n",
    "                  }\n",
    "\n",
    "    # Perform Grid Search\n",
    "    lr = GridSearchCV(pipe,\n",
    "                     param_grid = hyperparams,\n",
    "                     cv = 3,\n",
    "                     scoring = 'accuracy')\n",
    "\n",
    "    results = lr.fit(X_train, y_train)\n",
    "    \n",
    "    # Get score\n",
    "    train_score = results.best_score_\n",
    "    print('Best crossval score: {:.4f}'.format(train_score))\n",
    "    train_score = results.score(X_train, y_train)\n",
    "    print('Best TRAIN score: {:.4f}'.format(train_score))\n",
    "    test_score = results.score(X_test, y_test)\n",
    "    print('Best TEST score: {:.4f}'.format(test_score))\n",
    "    print(results.best_params_)\n",
    "\n",
    "    \n",
    "    return lr"
   ]
  },
  {
   "cell_type": "code",
   "execution_count": 53,
   "metadata": {},
   "outputs": [
    {
     "name": "stdout",
     "output_type": "stream",
     "text": [
      "(106059,)\n",
      "(106059,)\n"
     ]
    }
   ],
   "source": [
    "# train test split for X and y\n",
    "X = tweets['clean_text']\n",
    "y = tweets['sentiment']\n",
    "\n",
    "X_train, X_test, y_train, y_test = train_test_split(X, y, random_state = 42)\n",
    "\n",
    "print(X_train.shape)\n",
    "print(y_train.shape)"
   ]
  },
  {
   "cell_type": "markdown",
   "metadata": {},
   "source": [
    "### Results of Logistic Regression"
   ]
  },
  {
   "cell_type": "code",
   "execution_count": 54,
   "metadata": {},
   "outputs": [
    {
     "name": "stderr",
     "output_type": "stream",
     "text": [
      "/Users/RoxanaRuvalcaba/opt/anaconda3/envs/dsi/lib/python3.7/site-packages/sklearn/linear_model/_logistic.py:940: ConvergenceWarning: lbfgs failed to converge (status=1):\n",
      "STOP: TOTAL NO. of ITERATIONS REACHED LIMIT.\n",
      "\n",
      "Increase the number of iterations (max_iter) or scale the data as shown in:\n",
      "    https://scikit-learn.org/stable/modules/preprocessing.html\n",
      "Please also refer to the documentation for alternative solver options:\n",
      "    https://scikit-learn.org/stable/modules/linear_model.html#logistic-regression\n",
      "  extra_warning_msg=_LOGISTIC_SOLVER_CONVERGENCE_MSG)\n",
      "/Users/RoxanaRuvalcaba/opt/anaconda3/envs/dsi/lib/python3.7/site-packages/sklearn/linear_model/_logistic.py:940: ConvergenceWarning: lbfgs failed to converge (status=1):\n",
      "STOP: TOTAL NO. of ITERATIONS REACHED LIMIT.\n",
      "\n",
      "Increase the number of iterations (max_iter) or scale the data as shown in:\n",
      "    https://scikit-learn.org/stable/modules/preprocessing.html\n",
      "Please also refer to the documentation for alternative solver options:\n",
      "    https://scikit-learn.org/stable/modules/linear_model.html#logistic-regression\n",
      "  extra_warning_msg=_LOGISTIC_SOLVER_CONVERGENCE_MSG)\n",
      "/Users/RoxanaRuvalcaba/opt/anaconda3/envs/dsi/lib/python3.7/site-packages/sklearn/linear_model/_logistic.py:940: ConvergenceWarning: lbfgs failed to converge (status=1):\n",
      "STOP: TOTAL NO. of ITERATIONS REACHED LIMIT.\n",
      "\n",
      "Increase the number of iterations (max_iter) or scale the data as shown in:\n",
      "    https://scikit-learn.org/stable/modules/preprocessing.html\n",
      "Please also refer to the documentation for alternative solver options:\n",
      "    https://scikit-learn.org/stable/modules/linear_model.html#logistic-regression\n",
      "  extra_warning_msg=_LOGISTIC_SOLVER_CONVERGENCE_MSG)\n",
      "/Users/RoxanaRuvalcaba/opt/anaconda3/envs/dsi/lib/python3.7/site-packages/sklearn/linear_model/_logistic.py:940: ConvergenceWarning: lbfgs failed to converge (status=1):\n",
      "STOP: TOTAL NO. of ITERATIONS REACHED LIMIT.\n",
      "\n",
      "Increase the number of iterations (max_iter) or scale the data as shown in:\n",
      "    https://scikit-learn.org/stable/modules/preprocessing.html\n",
      "Please also refer to the documentation for alternative solver options:\n",
      "    https://scikit-learn.org/stable/modules/linear_model.html#logistic-regression\n",
      "  extra_warning_msg=_LOGISTIC_SOLVER_CONVERGENCE_MSG)\n",
      "/Users/RoxanaRuvalcaba/opt/anaconda3/envs/dsi/lib/python3.7/site-packages/sklearn/linear_model/_logistic.py:940: ConvergenceWarning: lbfgs failed to converge (status=1):\n",
      "STOP: TOTAL NO. of ITERATIONS REACHED LIMIT.\n",
      "\n",
      "Increase the number of iterations (max_iter) or scale the data as shown in:\n",
      "    https://scikit-learn.org/stable/modules/preprocessing.html\n",
      "Please also refer to the documentation for alternative solver options:\n",
      "    https://scikit-learn.org/stable/modules/linear_model.html#logistic-regression\n",
      "  extra_warning_msg=_LOGISTIC_SOLVER_CONVERGENCE_MSG)\n",
      "/Users/RoxanaRuvalcaba/opt/anaconda3/envs/dsi/lib/python3.7/site-packages/sklearn/linear_model/_logistic.py:940: ConvergenceWarning: lbfgs failed to converge (status=1):\n",
      "STOP: TOTAL NO. of ITERATIONS REACHED LIMIT.\n",
      "\n",
      "Increase the number of iterations (max_iter) or scale the data as shown in:\n",
      "    https://scikit-learn.org/stable/modules/preprocessing.html\n",
      "Please also refer to the documentation for alternative solver options:\n",
      "    https://scikit-learn.org/stable/modules/linear_model.html#logistic-regression\n",
      "  extra_warning_msg=_LOGISTIC_SOLVER_CONVERGENCE_MSG)\n"
     ]
    },
    {
     "name": "stdout",
     "output_type": "stream",
     "text": [
      "Best crossval score: 0.8456\n",
      "Best TRAIN score: 0.9667\n",
      "Best TEST score: 0.8578\n",
      "{'model__C': 10.0, 'model__max_iter': 1000, 'model__penalty': 'l2', 'vectorizer__max_df': 1.0, 'vectorizer__max_features': None, 'vectorizer__min_df': 1, 'vectorizer__ngram_range': (1, 1), 'vectorizer__stop_words': 'english', 'vectorizer__strip_accents': None}\n"
     ]
    }
   ],
   "source": [
    "lr = grid_search_reddit_lr(X_train, X_test, y_train, y_test, vectorizer = TfidfVectorizer(), penalty = ['l2'], \n",
    "                           max_f = [None], c = np.logspace(-3,3,7), stop_w = ['english'], ngram = [(1,1)])"
   ]
  },
  {
   "cell_type": "code",
   "execution_count": 55,
   "metadata": {
    "scrolled": true
   },
   "outputs": [
    {
     "data": {
      "text/html": [
       "<div>\n",
       "<style scoped>\n",
       "    .dataframe tbody tr th:only-of-type {\n",
       "        vertical-align: middle;\n",
       "    }\n",
       "\n",
       "    .dataframe tbody tr th {\n",
       "        vertical-align: top;\n",
       "    }\n",
       "\n",
       "    .dataframe thead th {\n",
       "        text-align: right;\n",
       "    }\n",
       "</style>\n",
       "<table border=\"1\" class=\"dataframe\">\n",
       "  <thead>\n",
       "    <tr style=\"text-align: right;\">\n",
       "      <th></th>\n",
       "      <th>labels</th>\n",
       "      <th>coef</th>\n",
       "    </tr>\n",
       "  </thead>\n",
       "  <tbody>\n",
       "    <tr>\n",
       "      <th>9180</th>\n",
       "      <td>best</td>\n",
       "      <td>-11.110956</td>\n",
       "    </tr>\n",
       "    <tr>\n",
       "      <th>58931</th>\n",
       "      <td>lol</td>\n",
       "      <td>-9.916372</td>\n",
       "    </tr>\n",
       "    <tr>\n",
       "      <th>44153</th>\n",
       "      <td>happy</td>\n",
       "      <td>-7.368451</td>\n",
       "    </tr>\n",
       "    <tr>\n",
       "      <th>42767</th>\n",
       "      <td>great</td>\n",
       "      <td>-7.249388</td>\n",
       "    </tr>\n",
       "    <tr>\n",
       "      <th>54799</th>\n",
       "      <td>kind</td>\n",
       "      <td>-6.992867</td>\n",
       "    </tr>\n",
       "    <tr>\n",
       "      <th>...</th>\n",
       "      <td>...</td>\n",
       "      <td>...</td>\n",
       "    </tr>\n",
       "    <tr>\n",
       "      <th>44460</th>\n",
       "      <td>hate</td>\n",
       "      <td>14.411683</td>\n",
       "    </tr>\n",
       "    <tr>\n",
       "      <th>105773</th>\n",
       "      <td>stupid</td>\n",
       "      <td>15.179388</td>\n",
       "    </tr>\n",
       "    <tr>\n",
       "      <th>120890</th>\n",
       "      <td>worst</td>\n",
       "      <td>15.291498</td>\n",
       "    </tr>\n",
       "    <tr>\n",
       "      <th>7309</th>\n",
       "      <td>bad</td>\n",
       "      <td>15.887538</td>\n",
       "    </tr>\n",
       "    <tr>\n",
       "      <th>100677</th>\n",
       "      <td>sick</td>\n",
       "      <td>18.640929</td>\n",
       "    </tr>\n",
       "  </tbody>\n",
       "</table>\n",
       "<p>124716 rows × 2 columns</p>\n",
       "</div>"
      ],
      "text/plain": [
       "        labels       coef\n",
       "9180      best -11.110956\n",
       "58931      lol  -9.916372\n",
       "44153    happy  -7.368451\n",
       "42767    great  -7.249388\n",
       "54799     kind  -6.992867\n",
       "...        ...        ...\n",
       "44460     hate  14.411683\n",
       "105773  stupid  15.179388\n",
       "120890   worst  15.291498\n",
       "7309       bad  15.887538\n",
       "100677    sick  18.640929\n",
       "\n",
       "[124716 rows x 2 columns]"
      ]
     },
     "execution_count": 55,
     "metadata": {},
     "output_type": "execute_result"
    }
   ],
   "source": [
    "# checking words with highest and lowest coefficient\n",
    "pd.DataFrame({'labels':lr.best_estimator_[0].get_feature_names(), 'coef':lr.best_estimator_[1].coef_[0]} ).sort_values('coef')"
   ]
  },
  {
   "cell_type": "markdown",
   "metadata": {},
   "source": [
    "### Models and Results for specific Cities"
   ]
  },
  {
   "cell_type": "code",
   "execution_count": 56,
   "metadata": {},
   "outputs": [],
   "source": [
    "# running a model for each individual city\n",
    "def run_model(city):\n",
    "    X = tweets[tweets['region'] == city]['clean_text']\n",
    "    y = tweets[tweets['region'] == city]['sentiment']\n",
    "    \n",
    "    X_train, X_test, y_train, y_test = train_test_split(X, y, random_state = 42)\n",
    "    \n",
    "    return grid_search_reddit_lr(X_train, X_test, y_train, y_test, vectorizer = TfidfVectorizer(), penalty = ['l2'], \n",
    "                                 max_f = [None], c = np.logspace(-3,3,7), stop_w = ['english'], ngram = [(1,1)])"
   ]
  },
  {
   "cell_type": "code",
   "execution_count": 57,
   "metadata": {},
   "outputs": [
    {
     "name": "stdout",
     "output_type": "stream",
     "text": [
      "Best crossval score: 0.8085\n",
      "Best TRAIN score: 0.9858\n",
      "Best TEST score: 0.8265\n",
      "{'model__C': 10.0, 'model__max_iter': 1000, 'model__penalty': 'l2', 'vectorizer__max_df': 1.0, 'vectorizer__max_features': None, 'vectorizer__min_df': 1, 'vectorizer__ngram_range': (1, 1), 'vectorizer__stop_words': 'english', 'vectorizer__strip_accents': None}\n"
     ]
    },
    {
     "name": "stderr",
     "output_type": "stream",
     "text": [
      "/Users/RoxanaRuvalcaba/opt/anaconda3/envs/dsi/lib/python3.7/site-packages/sklearn/linear_model/_logistic.py:940: ConvergenceWarning: lbfgs failed to converge (status=1):\n",
      "STOP: TOTAL NO. of ITERATIONS REACHED LIMIT.\n",
      "\n",
      "Increase the number of iterations (max_iter) or scale the data as shown in:\n",
      "    https://scikit-learn.org/stable/modules/preprocessing.html\n",
      "Please also refer to the documentation for alternative solver options:\n",
      "    https://scikit-learn.org/stable/modules/linear_model.html#logistic-regression\n",
      "  extra_warning_msg=_LOGISTIC_SOLVER_CONVERGENCE_MSG)\n",
      "/Users/RoxanaRuvalcaba/opt/anaconda3/envs/dsi/lib/python3.7/site-packages/sklearn/linear_model/_logistic.py:940: ConvergenceWarning: lbfgs failed to converge (status=1):\n",
      "STOP: TOTAL NO. of ITERATIONS REACHED LIMIT.\n",
      "\n",
      "Increase the number of iterations (max_iter) or scale the data as shown in:\n",
      "    https://scikit-learn.org/stable/modules/preprocessing.html\n",
      "Please also refer to the documentation for alternative solver options:\n",
      "    https://scikit-learn.org/stable/modules/linear_model.html#logistic-regression\n",
      "  extra_warning_msg=_LOGISTIC_SOLVER_CONVERGENCE_MSG)\n"
     ]
    },
    {
     "name": "stdout",
     "output_type": "stream",
     "text": [
      "Best crossval score: 0.7990\n",
      "Best TRAIN score: 0.9860\n",
      "Best TEST score: 0.8076\n",
      "{'model__C': 10.0, 'model__max_iter': 1000, 'model__penalty': 'l2', 'vectorizer__max_df': 1.0, 'vectorizer__max_features': None, 'vectorizer__min_df': 1, 'vectorizer__ngram_range': (1, 1), 'vectorizer__stop_words': 'english', 'vectorizer__strip_accents': None}\n",
      "Best crossval score: 0.6684\n",
      "Best TRAIN score: 0.9987\n",
      "Best TEST score: 0.6967\n",
      "{'model__C': 10.0, 'model__max_iter': 1000, 'model__penalty': 'l2', 'vectorizer__max_df': 1.0, 'vectorizer__max_features': None, 'vectorizer__min_df': 1, 'vectorizer__ngram_range': (1, 1), 'vectorizer__stop_words': 'english', 'vectorizer__strip_accents': None}\n",
      "Best crossval score: 0.5924\n",
      "Best TRAIN score: 1.0000\n",
      "Best TEST score: 0.6085\n",
      "{'model__C': 100.0, 'model__max_iter': 1000, 'model__penalty': 'l2', 'vectorizer__max_df': 1.0, 'vectorizer__max_features': None, 'vectorizer__min_df': 1, 'vectorizer__ngram_range': (1, 1), 'vectorizer__stop_words': 'english', 'vectorizer__strip_accents': None}\n",
      "Best crossval score: 0.7700\n",
      "Best TRAIN score: 0.9926\n",
      "Best TEST score: 0.7878\n",
      "{'model__C': 10.0, 'model__max_iter': 1000, 'model__penalty': 'l2', 'vectorizer__max_df': 1.0, 'vectorizer__max_features': None, 'vectorizer__min_df': 1, 'vectorizer__ngram_range': (1, 1), 'vectorizer__stop_words': 'english', 'vectorizer__strip_accents': None}\n",
      "Best crossval score: 0.5890\n",
      "Best TRAIN score: 1.0000\n",
      "Best TEST score: 0.6053\n",
      "{'model__C': 10.0, 'model__max_iter': 1000, 'model__penalty': 'l2', 'vectorizer__max_df': 1.0, 'vectorizer__max_features': None, 'vectorizer__min_df': 1, 'vectorizer__ngram_range': (1, 1), 'vectorizer__stop_words': 'english', 'vectorizer__strip_accents': None}\n",
      "Best crossval score: 0.7956\n",
      "Best TRAIN score: 0.9911\n",
      "Best TEST score: 0.8168\n",
      "{'model__C': 10.0, 'model__max_iter': 1000, 'model__penalty': 'l2', 'vectorizer__max_df': 1.0, 'vectorizer__max_features': None, 'vectorizer__min_df': 1, 'vectorizer__ngram_range': (1, 1), 'vectorizer__stop_words': 'english', 'vectorizer__strip_accents': None}\n"
     ]
    }
   ],
   "source": [
    "lr_la = run_model('LA')\n",
    "lr_sf = run_model('SF')\n",
    "lr_bakersfield = run_model('BAKERSFIELD')\n",
    "lr_redding = run_model('REDDING')\n",
    "lr_sacramento = run_model('SAC')\n",
    "lr_chico = run_model('CHICO')\n",
    "lr_sd = run_model('SD')"
   ]
  },
  {
   "cell_type": "code",
   "execution_count": 58,
   "metadata": {},
   "outputs": [
    {
     "data": {
      "text/html": [
       "<div>\n",
       "<style scoped>\n",
       "    .dataframe tbody tr th:only-of-type {\n",
       "        vertical-align: middle;\n",
       "    }\n",
       "\n",
       "    .dataframe tbody tr th {\n",
       "        vertical-align: top;\n",
       "    }\n",
       "\n",
       "    .dataframe thead th {\n",
       "        text-align: right;\n",
       "    }\n",
       "</style>\n",
       "<table border=\"1\" class=\"dataframe\">\n",
       "  <thead>\n",
       "    <tr style=\"text-align: right;\">\n",
       "      <th></th>\n",
       "      <th>labels_all</th>\n",
       "      <th>coef_all</th>\n",
       "      <th>labels_la</th>\n",
       "      <th>coef_la</th>\n",
       "      <th>labels_sf</th>\n",
       "      <th>coef_sf</th>\n",
       "      <th>labels_bakersfield</th>\n",
       "      <th>coef_bakersfield</th>\n",
       "      <th>labels_redding</th>\n",
       "      <th>coef_redding</th>\n",
       "      <th>labels_sacramento</th>\n",
       "      <th>coef_sacramento</th>\n",
       "      <th>labels_chico</th>\n",
       "      <th>coef_chico</th>\n",
       "      <th>labels_sd</th>\n",
       "      <th>coef_sd</th>\n",
       "    </tr>\n",
       "  </thead>\n",
       "  <tbody>\n",
       "    <tr>\n",
       "      <th>0</th>\n",
       "      <td>best</td>\n",
       "      <td>-11.110956</td>\n",
       "      <td>best</td>\n",
       "      <td>-8.612465</td>\n",
       "      <td>best</td>\n",
       "      <td>-7.177913</td>\n",
       "      <td>quarantine</td>\n",
       "      <td>-2.728906</td>\n",
       "      <td>california</td>\n",
       "      <td>-2.756019</td>\n",
       "      <td>lol</td>\n",
       "      <td>-5.301551</td>\n",
       "      <td>love</td>\n",
       "      <td>-1.557111</td>\n",
       "      <td>best</td>\n",
       "      <td>-6.807339</td>\n",
       "    </tr>\n",
       "    <tr>\n",
       "      <th>1</th>\n",
       "      <td>lol</td>\n",
       "      <td>-9.916372</td>\n",
       "      <td>perfect</td>\n",
       "      <td>-7.749148</td>\n",
       "      <td>lol</td>\n",
       "      <td>-6.828943</td>\n",
       "      <td>lmao</td>\n",
       "      <td>-2.483114</td>\n",
       "      <td>pandemic</td>\n",
       "      <td>-2.646519</td>\n",
       "      <td>better</td>\n",
       "      <td>-4.818921</td>\n",
       "      <td>covid</td>\n",
       "      <td>-1.502755</td>\n",
       "      <td>lol</td>\n",
       "      <td>-6.608790</td>\n",
       "    </tr>\n",
       "    <tr>\n",
       "      <th>2</th>\n",
       "      <td>happy</td>\n",
       "      <td>-7.368451</td>\n",
       "      <td>great</td>\n",
       "      <td>-7.523916</td>\n",
       "      <td>love</td>\n",
       "      <td>-6.402142</td>\n",
       "      <td>best</td>\n",
       "      <td>-2.431992</td>\n",
       "      <td>want</td>\n",
       "      <td>-2.592323</td>\n",
       "      <td>best</td>\n",
       "      <td>-4.481535</td>\n",
       "      <td>right</td>\n",
       "      <td>-1.337226</td>\n",
       "      <td>beautiful</td>\n",
       "      <td>-5.972869</td>\n",
       "    </tr>\n",
       "    <tr>\n",
       "      <th>3</th>\n",
       "      <td>great</td>\n",
       "      <td>-7.249388</td>\n",
       "      <td>glad</td>\n",
       "      <td>-5.680232</td>\n",
       "      <td>great</td>\n",
       "      <td>-5.835043</td>\n",
       "      <td>lol</td>\n",
       "      <td>-2.298760</td>\n",
       "      <td>positive</td>\n",
       "      <td>-2.407744</td>\n",
       "      <td>sound</td>\n",
       "      <td>-4.349326</td>\n",
       "      <td>way</td>\n",
       "      <td>-1.334107</td>\n",
       "      <td>great</td>\n",
       "      <td>-5.393315</td>\n",
       "    </tr>\n",
       "    <tr>\n",
       "      <th>4</th>\n",
       "      <td>kind</td>\n",
       "      <td>-6.992867</td>\n",
       "      <td>happy</td>\n",
       "      <td>-5.269433</td>\n",
       "      <td>happy</td>\n",
       "      <td>-5.438727</td>\n",
       "      <td>great</td>\n",
       "      <td>-2.270936</td>\n",
       "      <td>hope</td>\n",
       "      <td>-2.341186</td>\n",
       "      <td>love</td>\n",
       "      <td>-4.026242</td>\n",
       "      <td>chico</td>\n",
       "      <td>-1.320988</td>\n",
       "      <td>healthy</td>\n",
       "      <td>-4.015574</td>\n",
       "    </tr>\n",
       "    <tr>\n",
       "      <th>5</th>\n",
       "      <td>hate</td>\n",
       "      <td>14.411683</td>\n",
       "      <td>crazy</td>\n",
       "      <td>11.566108</td>\n",
       "      <td>small</td>\n",
       "      <td>10.320121</td>\n",
       "      <td>ill</td>\n",
       "      <td>4.773500</td>\n",
       "      <td>mean</td>\n",
       "      <td>4.190793</td>\n",
       "      <td>crazy</td>\n",
       "      <td>9.125067</td>\n",
       "      <td>sick</td>\n",
       "      <td>2.107853</td>\n",
       "      <td>ill</td>\n",
       "      <td>9.318245</td>\n",
       "    </tr>\n",
       "    <tr>\n",
       "      <th>6</th>\n",
       "      <td>stupid</td>\n",
       "      <td>15.179388</td>\n",
       "      <td>hate</td>\n",
       "      <td>11.709069</td>\n",
       "      <td>hate</td>\n",
       "      <td>10.522386</td>\n",
       "      <td>shit</td>\n",
       "      <td>4.874586</td>\n",
       "      <td>fuck</td>\n",
       "      <td>4.197421</td>\n",
       "      <td>worst</td>\n",
       "      <td>9.333020</td>\n",
       "      <td>terrible</td>\n",
       "      <td>2.229484</td>\n",
       "      <td>fuck</td>\n",
       "      <td>9.327841</td>\n",
       "    </tr>\n",
       "    <tr>\n",
       "      <th>7</th>\n",
       "      <td>worst</td>\n",
       "      <td>15.291498</td>\n",
       "      <td>stupid</td>\n",
       "      <td>11.725162</td>\n",
       "      <td>bad</td>\n",
       "      <td>11.700892</td>\n",
       "      <td>stupid</td>\n",
       "      <td>5.119330</td>\n",
       "      <td>trouble</td>\n",
       "      <td>4.640203</td>\n",
       "      <td>ill</td>\n",
       "      <td>9.605593</td>\n",
       "      <td>long</td>\n",
       "      <td>2.288927</td>\n",
       "      <td>crazy</td>\n",
       "      <td>10.394134</td>\n",
       "    </tr>\n",
       "    <tr>\n",
       "      <th>8</th>\n",
       "      <td>bad</td>\n",
       "      <td>15.887538</td>\n",
       "      <td>bad</td>\n",
       "      <td>13.235349</td>\n",
       "      <td>worst</td>\n",
       "      <td>11.898780</td>\n",
       "      <td>bad</td>\n",
       "      <td>5.817475</td>\n",
       "      <td>shit</td>\n",
       "      <td>4.905138</td>\n",
       "      <td>bad</td>\n",
       "      <td>9.930992</td>\n",
       "      <td>people</td>\n",
       "      <td>2.369513</td>\n",
       "      <td>bad</td>\n",
       "      <td>10.919283</td>\n",
       "    </tr>\n",
       "    <tr>\n",
       "      <th>9</th>\n",
       "      <td>sick</td>\n",
       "      <td>18.640929</td>\n",
       "      <td>sick</td>\n",
       "      <td>15.154342</td>\n",
       "      <td>sick</td>\n",
       "      <td>13.681059</td>\n",
       "      <td>crazy</td>\n",
       "      <td>6.081983</td>\n",
       "      <td>sick</td>\n",
       "      <td>6.105253</td>\n",
       "      <td>sick</td>\n",
       "      <td>10.721147</td>\n",
       "      <td>shit</td>\n",
       "      <td>2.975647</td>\n",
       "      <td>sick</td>\n",
       "      <td>11.175476</td>\n",
       "    </tr>\n",
       "  </tbody>\n",
       "</table>\n",
       "</div>"
      ],
      "text/plain": [
       "  labels_all   coef_all labels_la    coef_la labels_sf    coef_sf  \\\n",
       "0       best -11.110956      best  -8.612465      best  -7.177913   \n",
       "1        lol  -9.916372   perfect  -7.749148       lol  -6.828943   \n",
       "2      happy  -7.368451     great  -7.523916      love  -6.402142   \n",
       "3      great  -7.249388      glad  -5.680232     great  -5.835043   \n",
       "4       kind  -6.992867     happy  -5.269433     happy  -5.438727   \n",
       "5       hate  14.411683     crazy  11.566108     small  10.320121   \n",
       "6     stupid  15.179388      hate  11.709069      hate  10.522386   \n",
       "7      worst  15.291498    stupid  11.725162       bad  11.700892   \n",
       "8        bad  15.887538       bad  13.235349     worst  11.898780   \n",
       "9       sick  18.640929      sick  15.154342      sick  13.681059   \n",
       "\n",
       "  labels_bakersfield  coef_bakersfield labels_redding  coef_redding  \\\n",
       "0         quarantine         -2.728906     california     -2.756019   \n",
       "1               lmao         -2.483114       pandemic     -2.646519   \n",
       "2               best         -2.431992           want     -2.592323   \n",
       "3                lol         -2.298760       positive     -2.407744   \n",
       "4              great         -2.270936           hope     -2.341186   \n",
       "5                ill          4.773500           mean      4.190793   \n",
       "6               shit          4.874586           fuck      4.197421   \n",
       "7             stupid          5.119330        trouble      4.640203   \n",
       "8                bad          5.817475           shit      4.905138   \n",
       "9              crazy          6.081983           sick      6.105253   \n",
       "\n",
       "  labels_sacramento  coef_sacramento labels_chico  coef_chico  labels_sd  \\\n",
       "0               lol        -5.301551         love   -1.557111       best   \n",
       "1            better        -4.818921        covid   -1.502755        lol   \n",
       "2              best        -4.481535        right   -1.337226  beautiful   \n",
       "3             sound        -4.349326          way   -1.334107      great   \n",
       "4              love        -4.026242        chico   -1.320988    healthy   \n",
       "5             crazy         9.125067         sick    2.107853        ill   \n",
       "6             worst         9.333020     terrible    2.229484       fuck   \n",
       "7               ill         9.605593         long    2.288927      crazy   \n",
       "8               bad         9.930992       people    2.369513        bad   \n",
       "9              sick        10.721147         shit    2.975647       sick   \n",
       "\n",
       "     coef_sd  \n",
       "0  -6.807339  \n",
       "1  -6.608790  \n",
       "2  -5.972869  \n",
       "3  -5.393315  \n",
       "4  -4.015574  \n",
       "5   9.318245  \n",
       "6   9.327841  \n",
       "7  10.394134  \n",
       "8  10.919283  \n",
       "9  11.175476  "
      ]
     },
     "execution_count": 58,
     "metadata": {},
     "output_type": "execute_result"
    }
   ],
   "source": [
    "# creating a table with words with highest and lowest coefficient\n",
    "coef_all = pd.DataFrame({'labels_all':lr.best_estimator_[0].get_feature_names(), 'coef_all':lr.best_estimator_[1].coef_[0]} ).sort_values('coef_all')\n",
    "coef_la = pd.DataFrame({'labels_la':lr_la.best_estimator_[0].get_feature_names(), 'coef_la':lr_la.best_estimator_[1].coef_[0]} ).sort_values('coef_la')\n",
    "coef_sf = pd.DataFrame({'labels_sf':lr_sf.best_estimator_[0].get_feature_names(), 'coef_sf':lr_sf.best_estimator_[1].coef_[0]} ).sort_values('coef_sf')\n",
    "coef_bakersfield = pd.DataFrame({'labels_bakersfield':lr_bakersfield.best_estimator_[0].get_feature_names(), 'coef_bakersfield':lr_bakersfield.best_estimator_[1].coef_[0]} ).sort_values('coef_bakersfield')\n",
    "coef_redding = pd.DataFrame({'labels_redding':lr_redding.best_estimator_[0].get_feature_names(), 'coef_redding':lr_redding.best_estimator_[1].coef_[0]} ).sort_values('coef_redding')\n",
    "coef_sacramento = pd.DataFrame({'labels_sacramento':lr_sacramento.best_estimator_[0].get_feature_names(), 'coef_sacramento':lr_sacramento.best_estimator_[1].coef_[0]} ).sort_values('coef_sacramento')\n",
    "coef_chico = pd.DataFrame({'labels_chico':lr_chico.best_estimator_[0].get_feature_names(), 'coef_chico':lr_chico.best_estimator_[1].coef_[0]} ).sort_values('coef_chico')\n",
    "coef_sd = pd.DataFrame({'labels_sd':lr_sd.best_estimator_[0].get_feature_names(), 'coef_sd':lr_sd.best_estimator_[1].coef_[0]} ).sort_values('coef_sd')\n",
    "\n",
    "\n",
    "coef_all = pd.concat([coef_all[:5], coef_all[coef_all.shape[0]-5:]])\n",
    "coef_la = pd.concat([coef_la[:5], coef_la[coef_la.shape[0]-5:]])\n",
    "coef_sf = pd.concat([coef_sf[:5], coef_sf[coef_sf.shape[0]-5:]])\n",
    "coef_bakersfield = pd.concat([coef_bakersfield[:5], coef_bakersfield[coef_bakersfield.shape[0]-5:]])\n",
    "coef_redding = pd.concat([coef_redding[:5], coef_redding[coef_redding.shape[0]-5:]])\n",
    "coef_sacramento = pd.concat([coef_sacramento[:5], coef_sacramento[coef_sacramento.shape[0]-5:]])\n",
    "coef_chico = pd.concat([coef_chico[:5], coef_chico[coef_chico.shape[0]-5:]])\n",
    "coef_sd = pd.concat([coef_sd[:5], coef_sd[coef_sd.shape[0]-5:]])\n",
    "\n",
    "\n",
    "coef_all.reset_index(inplace=True)\n",
    "coef_la.reset_index(inplace=True)\n",
    "coef_sf.reset_index(inplace=True)\n",
    "coef_bakersfield.reset_index(inplace=True)\n",
    "coef_redding.reset_index(inplace=True)\n",
    "coef_sacramento.reset_index(inplace=True)\n",
    "coef_chico.reset_index(inplace=True)\n",
    "coef_sd.reset_index(inplace=True)\n",
    "\n",
    "data_frames = [coef_all, coef_la, coef_sf, coef_bakersfield, coef_redding, coef_sacramento, coef_chico, coef_sd]\n",
    "all_coef = pd.concat(data_frames, axis=1, sort=False)\n",
    "all_coef = all_coef.drop(columns = 'index')\n",
    "\n",
    "all_coef\n"
   ]
  },
  {
   "cell_type": "markdown",
   "metadata": {},
   "source": [
    "# Conclusion"
   ]
  },
  {
   "cell_type": "markdown",
   "metadata": {},
   "source": [
    "The models performed well in predicting the sentiment of a tweet once tweets were labeled as being negative, neutral or, positive. However, we were unable to find any clear relationships between twitter sentiment and the severity of an outbreak in a region, and thus couldn’t predict the severity of an outbreak through tweets. While labeling sentiment, there were many conflating factors getting in the way of making any assertions regarding twitter sentiment’s relationship with coronavirus outcomes. As next steps, we recommend refining the tweet sentiment labels either by further cleaning the data or labeling manually if resources are available. Utilize additional computing power for modelling via an external resource, and gather data with more tweet locations. As additional tools, please also view the map prototypes the team created using actual coronavirus data from the LA Times."
   ]
  }
 ],
 "metadata": {
  "kernelspec": {
   "display_name": "Python 3",
   "language": "python",
   "name": "python3"
  },
  "language_info": {
   "codemirror_mode": {
    "name": "ipython",
    "version": 3
   },
   "file_extension": ".py",
   "mimetype": "text/x-python",
   "name": "python",
   "nbconvert_exporter": "python",
   "pygments_lexer": "ipython3",
   "version": "3.7.6"
  }
 },
 "nbformat": 4,
 "nbformat_minor": 4
}
